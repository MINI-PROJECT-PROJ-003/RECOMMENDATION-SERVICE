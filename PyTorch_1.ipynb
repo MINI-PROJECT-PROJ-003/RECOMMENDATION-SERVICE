{
  "nbformat": 4,
  "nbformat_minor": 0,
  "metadata": {
    "colab": {
      "provenance": [],
      "collapsed_sections": []
    },
    "kernelspec": {
      "name": "python3",
      "display_name": "Python 3"
    },
    "language_info": {
      "name": "python"
    }
  },
  "cells": [
    {
      "cell_type": "code",
      "execution_count": 117,
      "metadata": {
        "id": "8KXuFrCd5xD-"
      },
      "outputs": [],
      "source": [
        "import torch\n",
        "import torch.nn as nn\n",
        "import torch.nn.functional as F\n",
        "import numpy as np\n",
        "import pandas as pd\n",
        "import matplotlib.pyplot as plt\n",
        "from datetime import datetime\n",
        "from sklearn.utils import shuffle"
      ]
    },
    {
      "cell_type": "code",
      "source": [
        "df=pd.read_csv('sample_data/ratings.csv')"
      ],
      "metadata": {
        "id": "FlT8sNhb78qq"
      },
      "execution_count": 118,
      "outputs": []
    },
    {
      "cell_type": "code",
      "source": [
        "df.head()"
      ],
      "metadata": {
        "colab": {
          "base_uri": "https://localhost:8080/",
          "height": 206
        },
        "id": "rRt2aRwk8D1K",
        "outputId": "4017b627-9cf8-4e72-9971-75edf3b10f57"
      },
      "execution_count": 119,
      "outputs": [
        {
          "output_type": "execute_result",
          "data": {
            "text/plain": [
              "   userId  movieId  rating  timestamp\n",
              "0       1        1     4.0  964982703\n",
              "1       1        3     4.0  964981247\n",
              "2       1        6     4.0  964982224\n",
              "3       1       47     5.0  964983815\n",
              "4       1       50     5.0  964982931"
            ],
            "text/html": [
              "\n",
              "  <div id=\"df-c6ea3349-d995-44e6-9779-d706ac3e5b12\">\n",
              "    <div class=\"colab-df-container\">\n",
              "      <div>\n",
              "<style scoped>\n",
              "    .dataframe tbody tr th:only-of-type {\n",
              "        vertical-align: middle;\n",
              "    }\n",
              "\n",
              "    .dataframe tbody tr th {\n",
              "        vertical-align: top;\n",
              "    }\n",
              "\n",
              "    .dataframe thead th {\n",
              "        text-align: right;\n",
              "    }\n",
              "</style>\n",
              "<table border=\"1\" class=\"dataframe\">\n",
              "  <thead>\n",
              "    <tr style=\"text-align: right;\">\n",
              "      <th></th>\n",
              "      <th>userId</th>\n",
              "      <th>movieId</th>\n",
              "      <th>rating</th>\n",
              "      <th>timestamp</th>\n",
              "    </tr>\n",
              "  </thead>\n",
              "  <tbody>\n",
              "    <tr>\n",
              "      <th>0</th>\n",
              "      <td>1</td>\n",
              "      <td>1</td>\n",
              "      <td>4.0</td>\n",
              "      <td>964982703</td>\n",
              "    </tr>\n",
              "    <tr>\n",
              "      <th>1</th>\n",
              "      <td>1</td>\n",
              "      <td>3</td>\n",
              "      <td>4.0</td>\n",
              "      <td>964981247</td>\n",
              "    </tr>\n",
              "    <tr>\n",
              "      <th>2</th>\n",
              "      <td>1</td>\n",
              "      <td>6</td>\n",
              "      <td>4.0</td>\n",
              "      <td>964982224</td>\n",
              "    </tr>\n",
              "    <tr>\n",
              "      <th>3</th>\n",
              "      <td>1</td>\n",
              "      <td>47</td>\n",
              "      <td>5.0</td>\n",
              "      <td>964983815</td>\n",
              "    </tr>\n",
              "    <tr>\n",
              "      <th>4</th>\n",
              "      <td>1</td>\n",
              "      <td>50</td>\n",
              "      <td>5.0</td>\n",
              "      <td>964982931</td>\n",
              "    </tr>\n",
              "  </tbody>\n",
              "</table>\n",
              "</div>\n",
              "      <button class=\"colab-df-convert\" onclick=\"convertToInteractive('df-c6ea3349-d995-44e6-9779-d706ac3e5b12')\"\n",
              "              title=\"Convert this dataframe to an interactive table.\"\n",
              "              style=\"display:none;\">\n",
              "        \n",
              "  <svg xmlns=\"http://www.w3.org/2000/svg\" height=\"24px\"viewBox=\"0 0 24 24\"\n",
              "       width=\"24px\">\n",
              "    <path d=\"M0 0h24v24H0V0z\" fill=\"none\"/>\n",
              "    <path d=\"M18.56 5.44l.94 2.06.94-2.06 2.06-.94-2.06-.94-.94-2.06-.94 2.06-2.06.94zm-11 1L8.5 8.5l.94-2.06 2.06-.94-2.06-.94L8.5 2.5l-.94 2.06-2.06.94zm10 10l.94 2.06.94-2.06 2.06-.94-2.06-.94-.94-2.06-.94 2.06-2.06.94z\"/><path d=\"M17.41 7.96l-1.37-1.37c-.4-.4-.92-.59-1.43-.59-.52 0-1.04.2-1.43.59L10.3 9.45l-7.72 7.72c-.78.78-.78 2.05 0 2.83L4 21.41c.39.39.9.59 1.41.59.51 0 1.02-.2 1.41-.59l7.78-7.78 2.81-2.81c.8-.78.8-2.07 0-2.86zM5.41 20L4 18.59l7.72-7.72 1.47 1.35L5.41 20z\"/>\n",
              "  </svg>\n",
              "      </button>\n",
              "      \n",
              "  <style>\n",
              "    .colab-df-container {\n",
              "      display:flex;\n",
              "      flex-wrap:wrap;\n",
              "      gap: 12px;\n",
              "    }\n",
              "\n",
              "    .colab-df-convert {\n",
              "      background-color: #E8F0FE;\n",
              "      border: none;\n",
              "      border-radius: 50%;\n",
              "      cursor: pointer;\n",
              "      display: none;\n",
              "      fill: #1967D2;\n",
              "      height: 32px;\n",
              "      padding: 0 0 0 0;\n",
              "      width: 32px;\n",
              "    }\n",
              "\n",
              "    .colab-df-convert:hover {\n",
              "      background-color: #E2EBFA;\n",
              "      box-shadow: 0px 1px 2px rgba(60, 64, 67, 0.3), 0px 1px 3px 1px rgba(60, 64, 67, 0.15);\n",
              "      fill: #174EA6;\n",
              "    }\n",
              "\n",
              "    [theme=dark] .colab-df-convert {\n",
              "      background-color: #3B4455;\n",
              "      fill: #D2E3FC;\n",
              "    }\n",
              "\n",
              "    [theme=dark] .colab-df-convert:hover {\n",
              "      background-color: #434B5C;\n",
              "      box-shadow: 0px 1px 3px 1px rgba(0, 0, 0, 0.15);\n",
              "      filter: drop-shadow(0px 1px 2px rgba(0, 0, 0, 0.3));\n",
              "      fill: #FFFFFF;\n",
              "    }\n",
              "  </style>\n",
              "\n",
              "      <script>\n",
              "        const buttonEl =\n",
              "          document.querySelector('#df-c6ea3349-d995-44e6-9779-d706ac3e5b12 button.colab-df-convert');\n",
              "        buttonEl.style.display =\n",
              "          google.colab.kernel.accessAllowed ? 'block' : 'none';\n",
              "\n",
              "        async function convertToInteractive(key) {\n",
              "          const element = document.querySelector('#df-c6ea3349-d995-44e6-9779-d706ac3e5b12');\n",
              "          const dataTable =\n",
              "            await google.colab.kernel.invokeFunction('convertToInteractive',\n",
              "                                                     [key], {});\n",
              "          if (!dataTable) return;\n",
              "\n",
              "          const docLinkHtml = 'Like what you see? Visit the ' +\n",
              "            '<a target=\"_blank\" href=https://colab.research.google.com/notebooks/data_table.ipynb>data table notebook</a>'\n",
              "            + ' to learn more about interactive tables.';\n",
              "          element.innerHTML = '';\n",
              "          dataTable['output_type'] = 'display_data';\n",
              "          await google.colab.output.renderOutput(dataTable, element);\n",
              "          const docLink = document.createElement('div');\n",
              "          docLink.innerHTML = docLinkHtml;\n",
              "          element.appendChild(docLink);\n",
              "        }\n",
              "      </script>\n",
              "    </div>\n",
              "  </div>\n",
              "  "
            ]
          },
          "metadata": {},
          "execution_count": 119
        }
      ]
    },
    {
      "cell_type": "code",
      "source": [
        "df.userId=pd.Categorical(df.userId)\n",
        "df['new_user_id']=df.userId.cat.codes"
      ],
      "metadata": {
        "id": "QM0B8AhP8F4_"
      },
      "execution_count": 120,
      "outputs": []
    },
    {
      "cell_type": "code",
      "source": [
        "df.movieId=pd.Categorical(df.movieId)\n",
        "df['new_movie_id']=df.movieId.cat.codes"
      ],
      "metadata": {
        "id": "ilKs7I4X810X"
      },
      "execution_count": 121,
      "outputs": []
    },
    {
      "cell_type": "code",
      "source": [
        "user_ids=df['new_user_id'].values\n",
        "movie_ids=df['new_movie_id'].values\n",
        "ratings=df['rating'].values-2.5"
      ],
      "metadata": {
        "id": "VkYr_QVc9EyP"
      },
      "execution_count": 122,
      "outputs": []
    },
    {
      "cell_type": "code",
      "source": [
        "N=len(set(user_ids))"
      ],
      "metadata": {
        "id": "Q1IC_osr9fLd"
      },
      "execution_count": 123,
      "outputs": []
    },
    {
      "cell_type": "code",
      "source": [
        "M=len(set(movie_ids))"
      ],
      "metadata": {
        "id": "8tyMIy079m-a"
      },
      "execution_count": 124,
      "outputs": []
    },
    {
      "cell_type": "code",
      "source": [
        "D=10"
      ],
      "metadata": {
        "id": "0dZvMawe9r9S"
      },
      "execution_count": 125,
      "outputs": []
    },
    {
      "cell_type": "code",
      "source": [
        "class Model(nn.Module):\n",
        "  def __init__(self,n_users,n_items,embed_dim,n_hidden=1024):\n",
        "    super(Model,self).__init__()\n",
        "    self.N=n_users\n",
        "    self.M=n_items\n",
        "    self.D=embed_dim\n",
        "\n",
        "    self.u_emb=nn.Embedding(self.N,self.D)\n",
        "    self.m_emb=nn.Embedding(self.M,self.D)\n",
        "    self.fc1=nn.Linear(2*self.D,n_hidden)\n",
        "    self.fc2=nn.Linear(n_hidden,1)\n",
        "    \n",
        "\n",
        "  def forward(self,u,m):\n",
        "    u=self.u_emb(u)  #output is (num_samples,D)\n",
        "    m=self.m_emb(m)  #output is (num_samples,D)\n",
        "    #merge\n",
        "    out=torch.cat((u,m),1)  #output is (num_samples,2D)\n",
        "    #ANN\n",
        "    out=self.fc1(out)\n",
        "    out=F.relu(out)\n",
        "    out=self.fc2(out)\n",
        "    return out\n",
        "\n",
        "\n",
        "\n",
        "    "
      ],
      "metadata": {
        "id": "UkTCQlf39vZO"
      },
      "execution_count": 126,
      "outputs": []
    },
    {
      "cell_type": "code",
      "source": [
        "device=torch.device(\"cuda:0\" if torch.cuda.is_available() else \"cpu\")"
      ],
      "metadata": {
        "id": "rZ5RjlZ4_k8Y"
      },
      "execution_count": 127,
      "outputs": []
    },
    {
      "cell_type": "code",
      "source": [
        "print(device)"
      ],
      "metadata": {
        "colab": {
          "base_uri": "https://localhost:8080/"
        },
        "id": "oPts0S68_ycS",
        "outputId": "ad2e3ebf-34d4-4241-b7bc-cf9e57ae4e77"
      },
      "execution_count": 128,
      "outputs": [
        {
          "output_type": "stream",
          "name": "stdout",
          "text": [
            "cpu\n"
          ]
        }
      ]
    },
    {
      "cell_type": "code",
      "source": [
        "model=Model(N,M,D)\n",
        "model.to(device)"
      ],
      "metadata": {
        "colab": {
          "base_uri": "https://localhost:8080/"
        },
        "id": "QvTKTL09_1x0",
        "outputId": "aa9a6b6f-fe8d-4319-db8d-213edbe115c5"
      },
      "execution_count": 129,
      "outputs": [
        {
          "output_type": "execute_result",
          "data": {
            "text/plain": [
              "Model(\n",
              "  (u_emb): Embedding(610, 10)\n",
              "  (m_emb): Embedding(9724, 10)\n",
              "  (fc1): Linear(in_features=20, out_features=1024, bias=True)\n",
              "  (fc2): Linear(in_features=1024, out_features=1, bias=True)\n",
              ")"
            ]
          },
          "metadata": {},
          "execution_count": 129
        }
      ]
    },
    {
      "cell_type": "code",
      "source": [
        "criterion=nn.MSELoss()\n",
        "optimizer=torch.optim.Adam(model.parameters())"
      ],
      "metadata": {
        "id": "OinER2EyAFIW"
      },
      "execution_count": 130,
      "outputs": []
    },
    {
      "cell_type": "code",
      "source": [
        "user_ids,movie_ids,ratings=shuffle(user_ids,movie_ids,ratings)"
      ],
      "metadata": {
        "id": "q53E-G8ZAWmZ"
      },
      "execution_count": 131,
      "outputs": []
    },
    {
      "cell_type": "code",
      "source": [
        "user_ids_t=torch.from_numpy(user_ids).long()\n",
        "movie_ids_t=torch.from_numpy(movie_ids).long()\n",
        "ratings_t=torch.from_numpy(ratings)"
      ],
      "metadata": {
        "id": "PyXVJIsxAkAS"
      },
      "execution_count": 132,
      "outputs": []
    },
    {
      "cell_type": "code",
      "source": [
        "Ntrain=int(0.8*len(ratings))\n",
        "train_dataset=torch.utils.data.TensorDataset(\n",
        "    user_ids_t[:Ntrain],\n",
        "    movie_ids_t[:Ntrain],\n",
        "    ratings_t[:Ntrain],\n",
        "\n",
        ")"
      ],
      "metadata": {
        "id": "qlX6O6xqA7Wz"
      },
      "execution_count": 133,
      "outputs": []
    },
    {
      "cell_type": "code",
      "source": [
        "test_dataset=torch.utils.data.TensorDataset(\n",
        "    user_ids_t[Ntrain:],\n",
        "    movie_ids_t[Ntrain:],\n",
        "    ratings_t[Ntrain:],\n",
        ")"
      ],
      "metadata": {
        "id": "yzeYp07zBgSa"
      },
      "execution_count": 134,
      "outputs": []
    },
    {
      "cell_type": "code",
      "source": [
        "Ntrain"
      ],
      "metadata": {
        "colab": {
          "base_uri": "https://localhost:8080/"
        },
        "id": "lA_Q-3158VF-",
        "outputId": "9c12a0bc-ac25-4cff-9c4b-9ecd1bff9410"
      },
      "execution_count": 135,
      "outputs": [
        {
          "output_type": "execute_result",
          "data": {
            "text/plain": [
              "80668"
            ]
          },
          "metadata": {},
          "execution_count": 135
        }
      ]
    },
    {
      "cell_type": "code",
      "source": [
        "train_dataset"
      ],
      "metadata": {
        "colab": {
          "base_uri": "https://localhost:8080/"
        },
        "id": "kSqspN4I8Y9D",
        "outputId": "7b32d1ad-4d75-4f31-b344-553f9353a2b9"
      },
      "execution_count": 136,
      "outputs": [
        {
          "output_type": "execute_result",
          "data": {
            "text/plain": [
              "<torch.utils.data.dataset.TensorDataset at 0x7f6856041b50>"
            ]
          },
          "metadata": {},
          "execution_count": 136
        }
      ]
    },
    {
      "cell_type": "code",
      "source": [
        "test_dataset"
      ],
      "metadata": {
        "colab": {
          "base_uri": "https://localhost:8080/"
        },
        "id": "o_tc-ulE8fKZ",
        "outputId": "77a590b4-69d0-4c10-9e22-a8a3662d6f57"
      },
      "execution_count": 137,
      "outputs": [
        {
          "output_type": "execute_result",
          "data": {
            "text/plain": [
              "<torch.utils.data.dataset.TensorDataset at 0x7f68560692d0>"
            ]
          },
          "metadata": {},
          "execution_count": 137
        }
      ]
    },
    {
      "cell_type": "code",
      "source": [
        "#Data Loaders\n",
        "batch_size=512\n",
        "train_loader=torch.utils.data.DataLoader(dataset=train_dataset,\n",
        "                                         batch_size=batch_size,\n",
        "                                         shuffle=True)\n",
        "test_loader=torch.utils.data.DataLoader(dataset=test_dataset,\n",
        "                                         batch_size=batch_size,\n",
        "                                         shuffle=False)\n"
      ],
      "metadata": {
        "id": "keCENjAwBy5_"
      },
      "execution_count": 138,
      "outputs": []
    },
    {
      "cell_type": "code",
      "source": [
        "#a function to encapsulate the training loop\n",
        "def batch_gd(model,criterion,optimizer,train_iter,test_iter,epochs):\n",
        "    train_losses=np.zeros(epochs)\n",
        "    test_losses=np.zeros(epochs)\n",
        " \n",
        "    \n",
        "    for it in range(epochs):\n",
        "      train_loss=[]\n",
        "      for users,movies,targets in train_loader:\n",
        "        targets=targets.view(-1,1).float()\n",
        "        #move data to GPU\n",
        "        users,movies,targets=users.to(device),movies.to(device),targets.to(device)\n",
        "        #zero to parameter gradients\n",
        "        optimizer.zero_grad()\n",
        "      \n",
        "        #Forward pass\n",
        "        outputs=model(users,movies)\n",
        "        loss=criterion(outputs,targets)\n",
        "        #backward and optimize\n",
        "        loss.backward()\n",
        "        optimizer.step()\n",
        "        #get trainloss and test loss\n",
        "        train_loss.append(loss.item())\n",
        "        \n",
        "      train_loss=np.mean(train_loss)\n",
        "      \n",
        "      test_loss=[]\n",
        "      for users,movies,targets in test_loader:\n",
        "        users,movies,targets=users.to(device),movies.to(device),targets.to(device)\n",
        "        targets=targets.view(-1,1).float()\n",
        "        outputs=model(users,movies)\n",
        "        loss=criterion(outputs,targets)\n",
        "        test_loss.append(loss.item())\n",
        "      test_loss=np.mean(test_loss)\n",
        "      #save losses\n",
        "      train_losses[it]=train_loss\n",
        "      test_losses[it]=test_loss\n",
        "      \n",
        "\n",
        "    \n",
        "      print(f'Epoch {it+1}/{epochs},Train Loss:{train_loss:.4f},'f'Test Loss:{test_loss:.4f}')\n",
        "    return train_losses,test_losses\n",
        "\n",
        "\n"
      ],
      "metadata": {
        "id": "7mbLvHFlCyKw"
      },
      "execution_count": 142,
      "outputs": []
    },
    {
      "cell_type": "code",
      "source": [
        "train_losses,test_losses=batch_gd( \\\n",
        "                model,criterion,optimizer,train_loader,test_loader,25)"
      ],
      "metadata": {
        "colab": {
          "base_uri": "https://localhost:8080/"
        },
        "id": "XkZdsBvrvQPF",
        "outputId": "b7f03aff-77e8-471d-bf97-143bdde7d422"
      },
      "execution_count": 143,
      "outputs": [
        {
          "output_type": "stream",
          "name": "stdout",
          "text": [
            "Epoch 1/25,Train Loss:0.5689,Test Loss:0.8268\n",
            "Epoch 2/25,Train Loss:0.5624,Test Loss:0.8217\n",
            "Epoch 3/25,Train Loss:0.5532,Test Loss:0.8225\n",
            "Epoch 4/25,Train Loss:0.5475,Test Loss:0.8323\n",
            "Epoch 5/25,Train Loss:0.5418,Test Loss:0.8283\n",
            "Epoch 6/25,Train Loss:0.5319,Test Loss:0.8346\n",
            "Epoch 7/25,Train Loss:0.5265,Test Loss:0.8367\n",
            "Epoch 8/25,Train Loss:0.5181,Test Loss:0.8300\n",
            "Epoch 9/25,Train Loss:0.5136,Test Loss:0.8397\n",
            "Epoch 10/25,Train Loss:0.5040,Test Loss:0.8472\n",
            "Epoch 11/25,Train Loss:0.4991,Test Loss:0.8429\n",
            "Epoch 12/25,Train Loss:0.4927,Test Loss:0.8414\n",
            "Epoch 13/25,Train Loss:0.4865,Test Loss:0.8558\n",
            "Epoch 14/25,Train Loss:0.4793,Test Loss:0.8562\n",
            "Epoch 15/25,Train Loss:0.4717,Test Loss:0.8569\n",
            "Epoch 16/25,Train Loss:0.4664,Test Loss:0.8649\n",
            "Epoch 17/25,Train Loss:0.4626,Test Loss:0.8669\n",
            "Epoch 18/25,Train Loss:0.4538,Test Loss:0.8728\n",
            "Epoch 19/25,Train Loss:0.4497,Test Loss:0.8793\n",
            "Epoch 20/25,Train Loss:0.4435,Test Loss:0.8748\n",
            "Epoch 21/25,Train Loss:0.4382,Test Loss:0.8881\n",
            "Epoch 22/25,Train Loss:0.4336,Test Loss:0.8815\n",
            "Epoch 23/25,Train Loss:0.4264,Test Loss:0.8911\n",
            "Epoch 24/25,Train Loss:0.4229,Test Loss:0.8940\n",
            "Epoch 25/25,Train Loss:0.4168,Test Loss:0.9037\n"
          ]
        }
      ]
    },
    {
      "cell_type": "code",
      "source": [
        "plt.plot(train_losses,label='train loss')\n",
        "plt.plot(test_losses,label='test loss')\n",
        "plt.legend()\n",
        "plt.show()"
      ],
      "metadata": {
        "colab": {
          "base_uri": "https://localhost:8080/",
          "height": 265
        },
        "id": "sm_ISuAeO7ky",
        "outputId": "37b91cd3-f569-4b7f-9931-ef8b034f7158"
      },
      "execution_count": 144,
      "outputs": [
        {
          "output_type": "display_data",
          "data": {
            "text/plain": [
              "<Figure size 432x288 with 1 Axes>"
            ],
            "image/png": "[encoded data removed]"
          },
          "metadata": {
            "needs_background": "light"
          }
        }
      ]
    }
  ]
}