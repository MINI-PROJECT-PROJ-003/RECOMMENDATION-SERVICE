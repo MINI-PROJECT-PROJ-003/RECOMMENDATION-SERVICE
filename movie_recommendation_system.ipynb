{
  "cells": [
    {
      "cell_type": "markdown",
      "metadata": {
        "id": "UCtPda4RtKbe"
      },
      "source": [
        "## Load Libraries "
      ]
    },
    {
      "cell_type": "code",
      "execution_count": 2,
      "metadata": {
        "id": "_bhabcjBtKbf"
      },
      "outputs": [],
      "source": [
        "from math import sqrt\n",
        "import pandas as pd\n",
        "import torch\n",
        "import numpy as np\n",
        "import seaborn as sns\n",
        "from matplotlib import pyplot as plt\n",
        "from sklearn.feature_extraction.text import TfidfVectorizer\n",
        "from sklearn.metrics.pairwise import linear_kernel"
      ]
    },
    {
      "cell_type": "markdown",
      "metadata": {
        "id": "YAXP6A7ytKbg"
      },
      "source": [
        "# Dataset\n"
      ]
    },
    {
      "cell_type": "code",
      "execution_count": 3,
      "metadata": {
        "id": "wp-ik6LptKbh"
      },
      "outputs": [],
      "source": [
        "# Reading ratings file\n",
        "ratings = pd.read_csv('ratings.csv', sep=',', encoding='latin-1', usecols=['userId','movieId','rating','timestamp'])\n",
        "\n",
        "# Reading movies file\n",
        "movies = pd.read_csv('movies.csv', sep=',', encoding='latin-1', usecols=['movieId','title','genres'])"
      ]
    },
    {
      "cell_type": "code",
      "execution_count": 4,
      "metadata": {
        "id": "WwvQXbLOtKbi"
      },
      "outputs": [],
      "source": [
        "df_movies = movies \n",
        "df_ratings = ratings "
      ]
    },
    {
      "cell_type": "markdown",
      "metadata": {
        "id": "g-s77u3NtKbi"
      },
      "source": [
        "#Exploring Data "
      ]
    },
    {
      "cell_type": "code",
      "execution_count": 5,
      "metadata": {
        "colab": {
          "base_uri": "https://localhost:8080/",
          "height": 206
        },
        "id": "kAsW75RatKbj",
        "outputId": "e9bc06e2-677f-45ea-b2e4-dc2e7cc05f14"
      },
      "outputs": [
        {
          "output_type": "execute_result",
          "data": {
            "text/plain": [
              "   movieId                               title  \\\n",
              "0        1                    Toy Story (1995)   \n",
              "1        2                      Jumanji (1995)   \n",
              "2        3             Grumpier Old Men (1995)   \n",
              "3        4            Waiting to Exhale (1995)   \n",
              "4        5  Father of the Bride Part II (1995)   \n",
              "\n",
              "                                        genres  \n",
              "0  Adventure|Animation|Children|Comedy|Fantasy  \n",
              "1                   Adventure|Children|Fantasy  \n",
              "2                               Comedy|Romance  \n",
              "3                         Comedy|Drama|Romance  \n",
              "4                                       Comedy  "
            ],
            "text/html": [
              "\n",
              "  <div id=\"df-1068a3ad-68a2-4908-b351-3bfab4a974af\">\n",
              "    <div class=\"colab-df-container\">\n",
              "      <div>\n",
              "<style scoped>\n",
              "    .dataframe tbody tr th:only-of-type {\n",
              "        vertical-align: middle;\n",
              "    }\n",
              "\n",
              "    .dataframe tbody tr th {\n",
              "        vertical-align: top;\n",
              "    }\n",
              "\n",
              "    .dataframe thead th {\n",
              "        text-align: right;\n",
              "    }\n",
              "</style>\n",
              "<table border=\"1\" class=\"dataframe\">\n",
              "  <thead>\n",
              "    <tr style=\"text-align: right;\">\n",
              "      <th></th>\n",
              "      <th>movieId</th>\n",
              "      <th>title</th>\n",
              "      <th>genres</th>\n",
              "    </tr>\n",
              "  </thead>\n",
              "  <tbody>\n",
              "    <tr>\n",
              "      <th>0</th>\n",
              "      <td>1</td>\n",
              "      <td>Toy Story (1995)</td>\n",
              "      <td>Adventure|Animation|Children|Comedy|Fantasy</td>\n",
              "    </tr>\n",
              "    <tr>\n",
              "      <th>1</th>\n",
              "      <td>2</td>\n",
              "      <td>Jumanji (1995)</td>\n",
              "      <td>Adventure|Children|Fantasy</td>\n",
              "    </tr>\n",
              "    <tr>\n",
              "      <th>2</th>\n",
              "      <td>3</td>\n",
              "      <td>Grumpier Old Men (1995)</td>\n",
              "      <td>Comedy|Romance</td>\n",
              "    </tr>\n",
              "    <tr>\n",
              "      <th>3</th>\n",
              "      <td>4</td>\n",
              "      <td>Waiting to Exhale (1995)</td>\n",
              "      <td>Comedy|Drama|Romance</td>\n",
              "    </tr>\n",
              "    <tr>\n",
              "      <th>4</th>\n",
              "      <td>5</td>\n",
              "      <td>Father of the Bride Part II (1995)</td>\n",
              "      <td>Comedy</td>\n",
              "    </tr>\n",
              "  </tbody>\n",
              "</table>\n",
              "</div>\n",
              "      <button class=\"colab-df-convert\" onclick=\"convertToInteractive('df-1068a3ad-68a2-4908-b351-3bfab4a974af')\"\n",
              "              title=\"Convert this dataframe to an interactive table.\"\n",
              "              style=\"display:none;\">\n",
              "        \n",
              "  <svg xmlns=\"http://www.w3.org/2000/svg\" height=\"24px\"viewBox=\"0 0 24 24\"\n",
              "       width=\"24px\">\n",
              "    <path d=\"M0 0h24v24H0V0z\" fill=\"none\"/>\n",
              "    <path d=\"M18.56 5.44l.94 2.06.94-2.06 2.06-.94-2.06-.94-.94-2.06-.94 2.06-2.06.94zm-11 1L8.5 8.5l.94-2.06 2.06-.94-2.06-.94L8.5 2.5l-.94 2.06-2.06.94zm10 10l.94 2.06.94-2.06 2.06-.94-2.06-.94-.94-2.06-.94 2.06-2.06.94z\"/><path d=\"M17.41 7.96l-1.37-1.37c-.4-.4-.92-.59-1.43-.59-.52 0-1.04.2-1.43.59L10.3 9.45l-7.72 7.72c-.78.78-.78 2.05 0 2.83L4 21.41c.39.39.9.59 1.41.59.51 0 1.02-.2 1.41-.59l7.78-7.78 2.81-2.81c.8-.78.8-2.07 0-2.86zM5.41 20L4 18.59l7.72-7.72 1.47 1.35L5.41 20z\"/>\n",
              "  </svg>\n",
              "      </button>\n",
              "      \n",
              "  <style>\n",
              "    .colab-df-container {\n",
              "      display:flex;\n",
              "      flex-wrap:wrap;\n",
              "      gap: 12px;\n",
              "    }\n",
              "\n",
              "    .colab-df-convert {\n",
              "      background-color: #E8F0FE;\n",
              "      border: none;\n",
              "      border-radius: 50%;\n",
              "      cursor: pointer;\n",
              "      display: none;\n",
              "      fill: #1967D2;\n",
              "      height: 32px;\n",
              "      padding: 0 0 0 0;\n",
              "      width: 32px;\n",
              "    }\n",
              "\n",
              "    .colab-df-convert:hover {\n",
              "      background-color: #E2EBFA;\n",
              "      box-shadow: 0px 1px 2px rgba(60, 64, 67, 0.3), 0px 1px 3px 1px rgba(60, 64, 67, 0.15);\n",
              "      fill: #174EA6;\n",
              "    }\n",
              "\n",
              "    [theme=dark] .colab-df-convert {\n",
              "      background-color: #3B4455;\n",
              "      fill: #D2E3FC;\n",
              "    }\n",
              "\n",
              "    [theme=dark] .colab-df-convert:hover {\n",
              "      background-color: #434B5C;\n",
              "      box-shadow: 0px 1px 3px 1px rgba(0, 0, 0, 0.15);\n",
              "      filter: drop-shadow(0px 1px 2px rgba(0, 0, 0, 0.3));\n",
              "      fill: #FFFFFF;\n",
              "    }\n",
              "  </style>\n",
              "\n",
              "      <script>\n",
              "        const buttonEl =\n",
              "          document.querySelector('#df-1068a3ad-68a2-4908-b351-3bfab4a974af button.colab-df-convert');\n",
              "        buttonEl.style.display =\n",
              "          google.colab.kernel.accessAllowed ? 'block' : 'none';\n",
              "\n",
              "        async function convertToInteractive(key) {\n",
              "          const element = document.querySelector('#df-1068a3ad-68a2-4908-b351-3bfab4a974af');\n",
              "          const dataTable =\n",
              "            await google.colab.kernel.invokeFunction('convertToInteractive',\n",
              "                                                     [key], {});\n",
              "          if (!dataTable) return;\n",
              "\n",
              "          const docLinkHtml = 'Like what you see? Visit the ' +\n",
              "            '<a target=\"_blank\" href=https://colab.research.google.com/notebooks/data_table.ipynb>data table notebook</a>'\n",
              "            + ' to learn more about interactive tables.';\n",
              "          element.innerHTML = '';\n",
              "          dataTable['output_type'] = 'display_data';\n",
              "          await google.colab.output.renderOutput(dataTable, element);\n",
              "          const docLink = document.createElement('div');\n",
              "          docLink.innerHTML = docLinkHtml;\n",
              "          element.appendChild(docLink);\n",
              "        }\n",
              "      </script>\n",
              "    </div>\n",
              "  </div>\n",
              "  "
            ]
          },
          "metadata": {},
          "execution_count": 5
        }
      ],
      "source": [
        "df_movies.head(5)"
      ]
    },
    {
      "cell_type": "markdown",
      "metadata": {
        "id": "YpIWRmtItKbk"
      },
      "source": [
        "Most popular genres of movie released"
      ]
    },
    {
      "cell_type": "code",
      "execution_count": 6,
      "metadata": {
        "colab": {
          "base_uri": "https://localhost:8080/",
          "height": 394
        },
        "id": "LVOd52PRtKbk",
        "outputId": "7f85156d-8341-4aac-d158-6730cb141606"
      },
      "outputs": [
        {
          "output_type": "execute_result",
          "data": {
            "text/plain": [
              "<BarContainer object of 19 artists>"
            ]
          },
          "metadata": {},
          "execution_count": 6
        },
        {
          "output_type": "display_data",
          "data": {
            "text/plain": [
              "<Figure size 1440x504 with 1 Axes>"
            ],
            "image/png": "[encoded data removed]"
          },
          "metadata": {
            "needs_background": "light"
          }
        }
      ],
      "source": [
        "plt.figure(figsize=(20,7))\n",
        "generlist = df_movies['genres'].apply(lambda generlist_movie : str(generlist_movie).split(\"|\"))\n",
        "geners_count = {}\n",
        "\n",
        "for generlist_movie in generlist:\n",
        "    for gener in generlist_movie:\n",
        "        if(geners_count.get(gener,False)):\n",
        "            geners_count[gener]=geners_count[gener]+1\n",
        "        else:\n",
        "            geners_count[gener] = 1       \n",
        "geners_count.pop(\"(no genres listed)\")\n",
        "plt.bar(geners_count.keys(),geners_count.values(),color='m')"
      ]
    },
    {
      "cell_type": "code",
      "execution_count": 7,
      "metadata": {
        "colab": {
          "base_uri": "https://localhost:8080/",
          "height": 206
        },
        "id": "Ka3feQ-3tKbl",
        "outputId": "882e8a62-95fc-4b7f-8c7c-77d3ba3600ce"
      },
      "outputs": [
        {
          "output_type": "execute_result",
          "data": {
            "text/plain": [
              "   userId  movieId  rating  timestamp\n",
              "0       1        1     4.0  964982703\n",
              "1       1        3     4.0  964981247\n",
              "2       1        6     4.0  964982224\n",
              "3       1       47     5.0  964983815\n",
              "4       1       50     5.0  964982931"
            ],
            "text/html": [
              "\n",
              "  <div id=\"df-442216e9-42a3-4523-ad6b-c7a4d08b9df4\">\n",
              "    <div class=\"colab-df-container\">\n",
              "      <div>\n",
              "<style scoped>\n",
              "    .dataframe tbody tr th:only-of-type {\n",
              "        vertical-align: middle;\n",
              "    }\n",
              "\n",
              "    .dataframe tbody tr th {\n",
              "        vertical-align: top;\n",
              "    }\n",
              "\n",
              "    .dataframe thead th {\n",
              "        text-align: right;\n",
              "    }\n",
              "</style>\n",
              "<table border=\"1\" class=\"dataframe\">\n",
              "  <thead>\n",
              "    <tr style=\"text-align: right;\">\n",
              "      <th></th>\n",
              "      <th>userId</th>\n",
              "      <th>movieId</th>\n",
              "      <th>rating</th>\n",
              "      <th>timestamp</th>\n",
              "    </tr>\n",
              "  </thead>\n",
              "  <tbody>\n",
              "    <tr>\n",
              "      <th>0</th>\n",
              "      <td>1</td>\n",
              "      <td>1</td>\n",
              "      <td>4.0</td>\n",
              "      <td>964982703</td>\n",
              "    </tr>\n",
              "    <tr>\n",
              "      <th>1</th>\n",
              "      <td>1</td>\n",
              "      <td>3</td>\n",
              "      <td>4.0</td>\n",
              "      <td>964981247</td>\n",
              "    </tr>\n",
              "    <tr>\n",
              "      <th>2</th>\n",
              "      <td>1</td>\n",
              "      <td>6</td>\n",
              "      <td>4.0</td>\n",
              "      <td>964982224</td>\n",
              "    </tr>\n",
              "    <tr>\n",
              "      <th>3</th>\n",
              "      <td>1</td>\n",
              "      <td>47</td>\n",
              "      <td>5.0</td>\n",
              "      <td>964983815</td>\n",
              "    </tr>\n",
              "    <tr>\n",
              "      <th>4</th>\n",
              "      <td>1</td>\n",
              "      <td>50</td>\n",
              "      <td>5.0</td>\n",
              "      <td>964982931</td>\n",
              "    </tr>\n",
              "  </tbody>\n",
              "</table>\n",
              "</div>\n",
              "      <button class=\"colab-df-convert\" onclick=\"convertToInteractive('df-442216e9-42a3-4523-ad6b-c7a4d08b9df4')\"\n",
              "              title=\"Convert this dataframe to an interactive table.\"\n",
              "              style=\"display:none;\">\n",
              "        \n",
              "  <svg xmlns=\"http://www.w3.org/2000/svg\" height=\"24px\"viewBox=\"0 0 24 24\"\n",
              "       width=\"24px\">\n",
              "    <path d=\"M0 0h24v24H0V0z\" fill=\"none\"/>\n",
              "    <path d=\"M18.56 5.44l.94 2.06.94-2.06 2.06-.94-2.06-.94-.94-2.06-.94 2.06-2.06.94zm-11 1L8.5 8.5l.94-2.06 2.06-.94-2.06-.94L8.5 2.5l-.94 2.06-2.06.94zm10 10l.94 2.06.94-2.06 2.06-.94-2.06-.94-.94-2.06-.94 2.06-2.06.94z\"/><path d=\"M17.41 7.96l-1.37-1.37c-.4-.4-.92-.59-1.43-.59-.52 0-1.04.2-1.43.59L10.3 9.45l-7.72 7.72c-.78.78-.78 2.05 0 2.83L4 21.41c.39.39.9.59 1.41.59.51 0 1.02-.2 1.41-.59l7.78-7.78 2.81-2.81c.8-.78.8-2.07 0-2.86zM5.41 20L4 18.59l7.72-7.72 1.47 1.35L5.41 20z\"/>\n",
              "  </svg>\n",
              "      </button>\n",
              "      \n",
              "  <style>\n",
              "    .colab-df-container {\n",
              "      display:flex;\n",
              "      flex-wrap:wrap;\n",
              "      gap: 12px;\n",
              "    }\n",
              "\n",
              "    .colab-df-convert {\n",
              "      background-color: #E8F0FE;\n",
              "      border: none;\n",
              "      border-radius: 50%;\n",
              "      cursor: pointer;\n",
              "      display: none;\n",
              "      fill: #1967D2;\n",
              "      height: 32px;\n",
              "      padding: 0 0 0 0;\n",
              "      width: 32px;\n",
              "    }\n",
              "\n",
              "    .colab-df-convert:hover {\n",
              "      background-color: #E2EBFA;\n",
              "      box-shadow: 0px 1px 2px rgba(60, 64, 67, 0.3), 0px 1px 3px 1px rgba(60, 64, 67, 0.15);\n",
              "      fill: #174EA6;\n",
              "    }\n",
              "\n",
              "    [theme=dark] .colab-df-convert {\n",
              "      background-color: #3B4455;\n",
              "      fill: #D2E3FC;\n",
              "    }\n",
              "\n",
              "    [theme=dark] .colab-df-convert:hover {\n",
              "      background-color: #434B5C;\n",
              "      box-shadow: 0px 1px 3px 1px rgba(0, 0, 0, 0.15);\n",
              "      filter: drop-shadow(0px 1px 2px rgba(0, 0, 0, 0.3));\n",
              "      fill: #FFFFFF;\n",
              "    }\n",
              "  </style>\n",
              "\n",
              "      <script>\n",
              "        const buttonEl =\n",
              "          document.querySelector('#df-442216e9-42a3-4523-ad6b-c7a4d08b9df4 button.colab-df-convert');\n",
              "        buttonEl.style.display =\n",
              "          google.colab.kernel.accessAllowed ? 'block' : 'none';\n",
              "\n",
              "        async function convertToInteractive(key) {\n",
              "          const element = document.querySelector('#df-442216e9-42a3-4523-ad6b-c7a4d08b9df4');\n",
              "          const dataTable =\n",
              "            await google.colab.kernel.invokeFunction('convertToInteractive',\n",
              "                                                     [key], {});\n",
              "          if (!dataTable) return;\n",
              "\n",
              "          const docLinkHtml = 'Like what you see? Visit the ' +\n",
              "            '<a target=\"_blank\" href=https://colab.research.google.com/notebooks/data_table.ipynb>data table notebook</a>'\n",
              "            + ' to learn more about interactive tables.';\n",
              "          element.innerHTML = '';\n",
              "          dataTable['output_type'] = 'display_data';\n",
              "          await google.colab.output.renderOutput(dataTable, element);\n",
              "          const docLink = document.createElement('div');\n",
              "          docLink.innerHTML = docLinkHtml;\n",
              "          element.appendChild(docLink);\n",
              "        }\n",
              "      </script>\n",
              "    </div>\n",
              "  </div>\n",
              "  "
            ]
          },
          "metadata": {},
          "execution_count": 7
        }
      ],
      "source": [
        "df_ratings.head(5)"
      ]
    },
    {
      "cell_type": "markdown",
      "metadata": {
        "id": "VRWFnjjotKbm"
      },
      "source": [
        "### Distribution of users rating"
      ]
    },
    {
      "cell_type": "code",
      "execution_count": 8,
      "metadata": {
        "colab": {
          "base_uri": "https://localhost:8080/",
          "height": 334
        },
        "id": "257-HbJ_tKbm",
        "outputId": "2c40be4f-68de-4700-9877-cec2c05a031d"
      },
      "outputs": [
        {
          "output_type": "stream",
          "name": "stderr",
          "text": [
            "/usr/local/lib/python3.7/dist-packages/seaborn/distributions.py:2619: FutureWarning: `distplot` is a deprecated function and will be removed in a future version. Please adapt your code to use either `displot` (a figure-level function with similar flexibility) or `histplot` (an axes-level function for histograms).\n",
            "  warnings.warn(msg, FutureWarning)\n"
          ]
        },
        {
          "output_type": "display_data",
          "data": {
            "text/plain": [
              "<Figure size 432x288 with 1 Axes>"
            ],
            "image/png": "[encoded data removed]"
          },
          "metadata": {
            "needs_background": "light"
          }
        }
      ],
      "source": [
        "sns.distplot(df_ratings[\"rating\"]);"
      ]
    },
    {
      "cell_type": "code",
      "execution_count": 9,
      "metadata": {
        "scrolled": true,
        "colab": {
          "base_uri": "https://localhost:8080/"
        },
        "id": "01DRmxF8tKbm",
        "outputId": "7bde1408-7468-403f-9903-15ade2c89dd9"
      },
      "outputs": [
        {
          "output_type": "stream",
          "name": "stdout",
          "text": [
            "Shape of frames: \n",
            " Rating DataFrame(100836, 4)\n",
            " Movies DataFrame(9742, 3)\n"
          ]
        }
      ],
      "source": [
        "print(\"Shape of frames: \\n\"+ \" Rating DataFrame\"+ str(df_ratings.shape)+\"\\n Movies DataFrame\"+ str(df_movies.shape))"
      ]
    },
    {
      "cell_type": "code",
      "execution_count": 10,
      "metadata": {
        "id": "A1cjVQOItKbn"
      },
      "outputs": [],
      "source": [
        "merge_ratings_movies = pd.merge(df_movies, df_ratings, on='movieId', how='inner')"
      ]
    },
    {
      "cell_type": "code",
      "execution_count": 11,
      "metadata": {
        "colab": {
          "base_uri": "https://localhost:8080/",
          "height": 112
        },
        "id": "HAlUsfHjtKbn",
        "outputId": "e9759409-833b-4337-b091-bc28b9d95f66"
      },
      "outputs": [
        {
          "output_type": "execute_result",
          "data": {
            "text/plain": [
              "   movieId             title                                       genres  \\\n",
              "0        1  Toy Story (1995)  Adventure|Animation|Children|Comedy|Fantasy   \n",
              "1        1  Toy Story (1995)  Adventure|Animation|Children|Comedy|Fantasy   \n",
              "\n",
              "   userId  rating  timestamp  \n",
              "0       1     4.0  964982703  \n",
              "1       5     4.0  847434962  "
            ],
            "text/html": [
              "\n",
              "  <div id=\"df-1551a52e-0f33-4498-8475-600e6752c190\">\n",
              "    <div class=\"colab-df-container\">\n",
              "      <div>\n",
              "<style scoped>\n",
              "    .dataframe tbody tr th:only-of-type {\n",
              "        vertical-align: middle;\n",
              "    }\n",
              "\n",
              "    .dataframe tbody tr th {\n",
              "        vertical-align: top;\n",
              "    }\n",
              "\n",
              "    .dataframe thead th {\n",
              "        text-align: right;\n",
              "    }\n",
              "</style>\n",
              "<table border=\"1\" class=\"dataframe\">\n",
              "  <thead>\n",
              "    <tr style=\"text-align: right;\">\n",
              "      <th></th>\n",
              "      <th>movieId</th>\n",
              "      <th>title</th>\n",
              "      <th>genres</th>\n",
              "      <th>userId</th>\n",
              "      <th>rating</th>\n",
              "      <th>timestamp</th>\n",
              "    </tr>\n",
              "  </thead>\n",
              "  <tbody>\n",
              "    <tr>\n",
              "      <th>0</th>\n",
              "      <td>1</td>\n",
              "      <td>Toy Story (1995)</td>\n",
              "      <td>Adventure|Animation|Children|Comedy|Fantasy</td>\n",
              "      <td>1</td>\n",
              "      <td>4.0</td>\n",
              "      <td>964982703</td>\n",
              "    </tr>\n",
              "    <tr>\n",
              "      <th>1</th>\n",
              "      <td>1</td>\n",
              "      <td>Toy Story (1995)</td>\n",
              "      <td>Adventure|Animation|Children|Comedy|Fantasy</td>\n",
              "      <td>5</td>\n",
              "      <td>4.0</td>\n",
              "      <td>847434962</td>\n",
              "    </tr>\n",
              "  </tbody>\n",
              "</table>\n",
              "</div>\n",
              "      <button class=\"colab-df-convert\" onclick=\"convertToInteractive('df-1551a52e-0f33-4498-8475-600e6752c190')\"\n",
              "              title=\"Convert this dataframe to an interactive table.\"\n",
              "              style=\"display:none;\">\n",
              "        \n",
              "  <svg xmlns=\"http://www.w3.org/2000/svg\" height=\"24px\"viewBox=\"0 0 24 24\"\n",
              "       width=\"24px\">\n",
              "    <path d=\"M0 0h24v24H0V0z\" fill=\"none\"/>\n",
              "    <path d=\"M18.56 5.44l.94 2.06.94-2.06 2.06-.94-2.06-.94-.94-2.06-.94 2.06-2.06.94zm-11 1L8.5 8.5l.94-2.06 2.06-.94-2.06-.94L8.5 2.5l-.94 2.06-2.06.94zm10 10l.94 2.06.94-2.06 2.06-.94-2.06-.94-.94-2.06-.94 2.06-2.06.94z\"/><path d=\"M17.41 7.96l-1.37-1.37c-.4-.4-.92-.59-1.43-.59-.52 0-1.04.2-1.43.59L10.3 9.45l-7.72 7.72c-.78.78-.78 2.05 0 2.83L4 21.41c.39.39.9.59 1.41.59.51 0 1.02-.2 1.41-.59l7.78-7.78 2.81-2.81c.8-.78.8-2.07 0-2.86zM5.41 20L4 18.59l7.72-7.72 1.47 1.35L5.41 20z\"/>\n",
              "  </svg>\n",
              "      </button>\n",
              "      \n",
              "  <style>\n",
              "    .colab-df-container {\n",
              "      display:flex;\n",
              "      flex-wrap:wrap;\n",
              "      gap: 12px;\n",
              "    }\n",
              "\n",
              "    .colab-df-convert {\n",
              "      background-color: #E8F0FE;\n",
              "      border: none;\n",
              "      border-radius: 50%;\n",
              "      cursor: pointer;\n",
              "      display: none;\n",
              "      fill: #1967D2;\n",
              "      height: 32px;\n",
              "      padding: 0 0 0 0;\n",
              "      width: 32px;\n",
              "    }\n",
              "\n",
              "    .colab-df-convert:hover {\n",
              "      background-color: #E2EBFA;\n",
              "      box-shadow: 0px 1px 2px rgba(60, 64, 67, 0.3), 0px 1px 3px 1px rgba(60, 64, 67, 0.15);\n",
              "      fill: #174EA6;\n",
              "    }\n",
              "\n",
              "    [theme=dark] .colab-df-convert {\n",
              "      background-color: #3B4455;\n",
              "      fill: #D2E3FC;\n",
              "    }\n",
              "\n",
              "    [theme=dark] .colab-df-convert:hover {\n",
              "      background-color: #434B5C;\n",
              "      box-shadow: 0px 1px 3px 1px rgba(0, 0, 0, 0.15);\n",
              "      filter: drop-shadow(0px 1px 2px rgba(0, 0, 0, 0.3));\n",
              "      fill: #FFFFFF;\n",
              "    }\n",
              "  </style>\n",
              "\n",
              "      <script>\n",
              "        const buttonEl =\n",
              "          document.querySelector('#df-1551a52e-0f33-4498-8475-600e6752c190 button.colab-df-convert');\n",
              "        buttonEl.style.display =\n",
              "          google.colab.kernel.accessAllowed ? 'block' : 'none';\n",
              "\n",
              "        async function convertToInteractive(key) {\n",
              "          const element = document.querySelector('#df-1551a52e-0f33-4498-8475-600e6752c190');\n",
              "          const dataTable =\n",
              "            await google.colab.kernel.invokeFunction('convertToInteractive',\n",
              "                                                     [key], {});\n",
              "          if (!dataTable) return;\n",
              "\n",
              "          const docLinkHtml = 'Like what you see? Visit the ' +\n",
              "            '<a target=\"_blank\" href=https://colab.research.google.com/notebooks/data_table.ipynb>data table notebook</a>'\n",
              "            + ' to learn more about interactive tables.';\n",
              "          element.innerHTML = '';\n",
              "          dataTable['output_type'] = 'display_data';\n",
              "          await google.colab.output.renderOutput(dataTable, element);\n",
              "          const docLink = document.createElement('div');\n",
              "          docLink.innerHTML = docLinkHtml;\n",
              "          element.appendChild(docLink);\n",
              "        }\n",
              "      </script>\n",
              "    </div>\n",
              "  </div>\n",
              "  "
            ]
          },
          "metadata": {},
          "execution_count": 11
        }
      ],
      "source": [
        "merge_ratings_movies.head(2)"
      ]
    },
    {
      "cell_type": "code",
      "execution_count": 12,
      "metadata": {
        "id": "ZNhnv81TtKbo"
      },
      "outputs": [],
      "source": [
        "merge_ratings_movies = merge_ratings_movies.drop('timestamp', axis=1)"
      ]
    },
    {
      "cell_type": "code",
      "execution_count": 13,
      "metadata": {
        "colab": {
          "base_uri": "https://localhost:8080/"
        },
        "id": "R_YlhF_LtKbo",
        "outputId": "a52e98a2-4b28-48c8-b58a-7408479ce5dd"
      },
      "outputs": [
        {
          "output_type": "execute_result",
          "data": {
            "text/plain": [
              "(100836, 5)"
            ]
          },
          "metadata": {},
          "execution_count": 13
        }
      ],
      "source": [
        "merge_ratings_movies.shape"
      ]
    },
    {
      "cell_type": "markdown",
      "metadata": {
        "id": "AvU2tAuPtKbo"
      },
      "source": [
        "Grouping the rating based on user"
      ]
    },
    {
      "cell_type": "code",
      "execution_count": null,
      "metadata": {
        "id": "WgqdGBSqtKbp"
      },
      "outputs": [],
      "source": [
        "ratings_grouped_by_users = merge_ratings_movies.groupby('userId').agg([np.size, np.mean])"
      ]
    },
    {
      "cell_type": "code",
      "execution_count": null,
      "metadata": {
        "colab": {
          "base_uri": "https://localhost:8080/",
          "height": 172
        },
        "id": "NgVzvBoRtKbp",
        "outputId": "c8eab363-2047-4886-982d-adaa2a6be650"
      },
      "outputs": [
        {
          "output_type": "execute_result",
          "data": {
            "text/plain": [
              "       movieId               rating          \n",
              "          size          mean   size      mean\n",
              "userId                                       \n",
              "1          232   1854.603448    232  4.366379\n",
              "2           29  70350.275862     29  3.948276"
            ],
            "text/html": [
              "\n",
              "  <div id=\"df-127af0ae-1072-434a-8bd8-357bc0da9e32\">\n",
              "    <div class=\"colab-df-container\">\n",
              "      <div>\n",
              "<style scoped>\n",
              "    .dataframe tbody tr th:only-of-type {\n",
              "        vertical-align: middle;\n",
              "    }\n",
              "\n",
              "    .dataframe tbody tr th {\n",
              "        vertical-align: top;\n",
              "    }\n",
              "\n",
              "    .dataframe thead tr th {\n",
              "        text-align: left;\n",
              "    }\n",
              "\n",
              "    .dataframe thead tr:last-of-type th {\n",
              "        text-align: right;\n",
              "    }\n",
              "</style>\n",
              "<table border=\"1\" class=\"dataframe\">\n",
              "  <thead>\n",
              "    <tr>\n",
              "      <th></th>\n",
              "      <th colspan=\"2\" halign=\"left\">movieId</th>\n",
              "      <th colspan=\"2\" halign=\"left\">rating</th>\n",
              "    </tr>\n",
              "    <tr>\n",
              "      <th></th>\n",
              "      <th>size</th>\n",
              "      <th>mean</th>\n",
              "      <th>size</th>\n",
              "      <th>mean</th>\n",
              "    </tr>\n",
              "    <tr>\n",
              "      <th>userId</th>\n",
              "      <th></th>\n",
              "      <th></th>\n",
              "      <th></th>\n",
              "      <th></th>\n",
              "    </tr>\n",
              "  </thead>\n",
              "  <tbody>\n",
              "    <tr>\n",
              "      <th>1</th>\n",
              "      <td>232</td>\n",
              "      <td>1854.603448</td>\n",
              "      <td>232</td>\n",
              "      <td>4.366379</td>\n",
              "    </tr>\n",
              "    <tr>\n",
              "      <th>2</th>\n",
              "      <td>29</td>\n",
              "      <td>70350.275862</td>\n",
              "      <td>29</td>\n",
              "      <td>3.948276</td>\n",
              "    </tr>\n",
              "  </tbody>\n",
              "</table>\n",
              "</div>\n",
              "      <button class=\"colab-df-convert\" onclick=\"convertToInteractive('df-127af0ae-1072-434a-8bd8-357bc0da9e32')\"\n",
              "              title=\"Convert this dataframe to an interactive table.\"\n",
              "              style=\"display:none;\">\n",
              "        \n",
              "  <svg xmlns=\"http://www.w3.org/2000/svg\" height=\"24px\"viewBox=\"0 0 24 24\"\n",
              "       width=\"24px\">\n",
              "    <path d=\"M0 0h24v24H0V0z\" fill=\"none\"/>\n",
              "    <path d=\"M18.56 5.44l.94 2.06.94-2.06 2.06-.94-2.06-.94-.94-2.06-.94 2.06-2.06.94zm-11 1L8.5 8.5l.94-2.06 2.06-.94-2.06-.94L8.5 2.5l-.94 2.06-2.06.94zm10 10l.94 2.06.94-2.06 2.06-.94-2.06-.94-.94-2.06-.94 2.06-2.06.94z\"/><path d=\"M17.41 7.96l-1.37-1.37c-.4-.4-.92-.59-1.43-.59-.52 0-1.04.2-1.43.59L10.3 9.45l-7.72 7.72c-.78.78-.78 2.05 0 2.83L4 21.41c.39.39.9.59 1.41.59.51 0 1.02-.2 1.41-.59l7.78-7.78 2.81-2.81c.8-.78.8-2.07 0-2.86zM5.41 20L4 18.59l7.72-7.72 1.47 1.35L5.41 20z\"/>\n",
              "  </svg>\n",
              "      </button>\n",
              "      \n",
              "  <style>\n",
              "    .colab-df-container {\n",
              "      display:flex;\n",
              "      flex-wrap:wrap;\n",
              "      gap: 12px;\n",
              "    }\n",
              "\n",
              "    .colab-df-convert {\n",
              "      background-color: #E8F0FE;\n",
              "      border: none;\n",
              "      border-radius: 50%;\n",
              "      cursor: pointer;\n",
              "      display: none;\n",
              "      fill: #1967D2;\n",
              "      height: 32px;\n",
              "      padding: 0 0 0 0;\n",
              "      width: 32px;\n",
              "    }\n",
              "\n",
              "    .colab-df-convert:hover {\n",
              "      background-color: #E2EBFA;\n",
              "      box-shadow: 0px 1px 2px rgba(60, 64, 67, 0.3), 0px 1px 3px 1px rgba(60, 64, 67, 0.15);\n",
              "      fill: #174EA6;\n",
              "    }\n",
              "\n",
              "    [theme=dark] .colab-df-convert {\n",
              "      background-color: #3B4455;\n",
              "      fill: #D2E3FC;\n",
              "    }\n",
              "\n",
              "    [theme=dark] .colab-df-convert:hover {\n",
              "      background-color: #434B5C;\n",
              "      box-shadow: 0px 1px 3px 1px rgba(0, 0, 0, 0.15);\n",
              "      filter: drop-shadow(0px 1px 2px rgba(0, 0, 0, 0.3));\n",
              "      fill: #FFFFFF;\n",
              "    }\n",
              "  </style>\n",
              "\n",
              "      <script>\n",
              "        const buttonEl =\n",
              "          document.querySelector('#df-127af0ae-1072-434a-8bd8-357bc0da9e32 button.colab-df-convert');\n",
              "        buttonEl.style.display =\n",
              "          google.colab.kernel.accessAllowed ? 'block' : 'none';\n",
              "\n",
              "        async function convertToInteractive(key) {\n",
              "          const element = document.querySelector('#df-127af0ae-1072-434a-8bd8-357bc0da9e32');\n",
              "          const dataTable =\n",
              "            await google.colab.kernel.invokeFunction('convertToInteractive',\n",
              "                                                     [key], {});\n",
              "          if (!dataTable) return;\n",
              "\n",
              "          const docLinkHtml = 'Like what you see? Visit the ' +\n",
              "            '<a target=\"_blank\" href=https://colab.research.google.com/notebooks/data_table.ipynb>data table notebook</a>'\n",
              "            + ' to learn more about interactive tables.';\n",
              "          element.innerHTML = '';\n",
              "          dataTable['output_type'] = 'display_data';\n",
              "          await google.colab.output.renderOutput(dataTable, element);\n",
              "          const docLink = document.createElement('div');\n",
              "          docLink.innerHTML = docLinkHtml;\n",
              "          element.appendChild(docLink);\n",
              "        }\n",
              "      </script>\n",
              "    </div>\n",
              "  </div>\n",
              "  "
            ]
          },
          "metadata": {},
          "execution_count": 57
        }
      ],
      "source": [
        "ratings_grouped_by_users.head(2)"
      ]
    },
    {
      "cell_type": "code",
      "execution_count": null,
      "metadata": {
        "id": "VO2uuP7CtKbp"
      },
      "outputs": [],
      "source": [
        "ratings_grouped_by_users = ratings_grouped_by_users.drop('movieId', axis = 1)"
      ]
    },
    {
      "cell_type": "markdown",
      "metadata": {
        "id": "T81zPks9tKbq"
      },
      "source": [
        "### Top 10 users who have rated most of the movies"
      ]
    },
    {
      "cell_type": "code",
      "execution_count": 16,
      "metadata": {
        "id": "9g4eDdoWtKbq"
      },
      "outputs": [],
      "source": [
        "ratings_grouped_by_movies = merge_ratings_movies.groupby('movieId').agg([np.mean], np.size)"
      ]
    },
    {
      "cell_type": "code",
      "execution_count": 17,
      "metadata": {
        "colab": {
          "base_uri": "https://localhost:8080/"
        },
        "id": "o68h-ke5tKbq",
        "outputId": "7175c39f-436b-425c-c9e9-d947ea43121c"
      },
      "outputs": [
        {
          "output_type": "execute_result",
          "data": {
            "text/plain": [
              "(9724, 2)"
            ]
          },
          "metadata": {},
          "execution_count": 17
        }
      ],
      "source": [
        "ratings_grouped_by_movies.shape"
      ]
    },
    {
      "cell_type": "code",
      "execution_count": null,
      "metadata": {
        "scrolled": true,
        "colab": {
          "base_uri": "https://localhost:8080/",
          "height": 203
        },
        "id": "sALpBC8qtKbr",
        "outputId": "105f099f-6e85-41c0-ea7a-78a8fb5ed6e6"
      },
      "outputs": [
        {
          "output_type": "execute_result",
          "data": {
            "text/plain": [
              "             userId    rating\n",
              "               mean      mean\n",
              "movieId                      \n",
              "1        306.530233  3.920930\n",
              "2        329.554545  3.431818\n",
              "3        283.596154  3.259615"
            ],
            "text/html": [
              "\n",
              "  <div id=\"df-3daa4379-f3ce-4430-8e18-8695d556fec6\">\n",
              "    <div class=\"colab-df-container\">\n",
              "      <div>\n",
              "<style scoped>\n",
              "    .dataframe tbody tr th:only-of-type {\n",
              "        vertical-align: middle;\n",
              "    }\n",
              "\n",
              "    .dataframe tbody tr th {\n",
              "        vertical-align: top;\n",
              "    }\n",
              "\n",
              "    .dataframe thead tr th {\n",
              "        text-align: left;\n",
              "    }\n",
              "\n",
              "    .dataframe thead tr:last-of-type th {\n",
              "        text-align: right;\n",
              "    }\n",
              "</style>\n",
              "<table border=\"1\" class=\"dataframe\">\n",
              "  <thead>\n",
              "    <tr>\n",
              "      <th></th>\n",
              "      <th>userId</th>\n",
              "      <th>rating</th>\n",
              "    </tr>\n",
              "    <tr>\n",
              "      <th></th>\n",
              "      <th>mean</th>\n",
              "      <th>mean</th>\n",
              "    </tr>\n",
              "    <tr>\n",
              "      <th>movieId</th>\n",
              "      <th></th>\n",
              "      <th></th>\n",
              "    </tr>\n",
              "  </thead>\n",
              "  <tbody>\n",
              "    <tr>\n",
              "      <th>1</th>\n",
              "      <td>306.530233</td>\n",
              "      <td>3.920930</td>\n",
              "    </tr>\n",
              "    <tr>\n",
              "      <th>2</th>\n",
              "      <td>329.554545</td>\n",
              "      <td>3.431818</td>\n",
              "    </tr>\n",
              "    <tr>\n",
              "      <th>3</th>\n",
              "      <td>283.596154</td>\n",
              "      <td>3.259615</td>\n",
              "    </tr>\n",
              "  </tbody>\n",
              "</table>\n",
              "</div>\n",
              "      <button class=\"colab-df-convert\" onclick=\"convertToInteractive('df-3daa4379-f3ce-4430-8e18-8695d556fec6')\"\n",
              "              title=\"Convert this dataframe to an interactive table.\"\n",
              "              style=\"display:none;\">\n",
              "        \n",
              "  <svg xmlns=\"http://www.w3.org/2000/svg\" height=\"24px\"viewBox=\"0 0 24 24\"\n",
              "       width=\"24px\">\n",
              "    <path d=\"M0 0h24v24H0V0z\" fill=\"none\"/>\n",
              "    <path d=\"M18.56 5.44l.94 2.06.94-2.06 2.06-.94-2.06-.94-.94-2.06-.94 2.06-2.06.94zm-11 1L8.5 8.5l.94-2.06 2.06-.94-2.06-.94L8.5 2.5l-.94 2.06-2.06.94zm10 10l.94 2.06.94-2.06 2.06-.94-2.06-.94-.94-2.06-.94 2.06-2.06.94z\"/><path d=\"M17.41 7.96l-1.37-1.37c-.4-.4-.92-.59-1.43-.59-.52 0-1.04.2-1.43.59L10.3 9.45l-7.72 7.72c-.78.78-.78 2.05 0 2.83L4 21.41c.39.39.9.59 1.41.59.51 0 1.02-.2 1.41-.59l7.78-7.78 2.81-2.81c.8-.78.8-2.07 0-2.86zM5.41 20L4 18.59l7.72-7.72 1.47 1.35L5.41 20z\"/>\n",
              "  </svg>\n",
              "      </button>\n",
              "      \n",
              "  <style>\n",
              "    .colab-df-container {\n",
              "      display:flex;\n",
              "      flex-wrap:wrap;\n",
              "      gap: 12px;\n",
              "    }\n",
              "\n",
              "    .colab-df-convert {\n",
              "      background-color: #E8F0FE;\n",
              "      border: none;\n",
              "      border-radius: 50%;\n",
              "      cursor: pointer;\n",
              "      display: none;\n",
              "      fill: #1967D2;\n",
              "      height: 32px;\n",
              "      padding: 0 0 0 0;\n",
              "      width: 32px;\n",
              "    }\n",
              "\n",
              "    .colab-df-convert:hover {\n",
              "      background-color: #E2EBFA;\n",
              "      box-shadow: 0px 1px 2px rgba(60, 64, 67, 0.3), 0px 1px 3px 1px rgba(60, 64, 67, 0.15);\n",
              "      fill: #174EA6;\n",
              "    }\n",
              "\n",
              "    [theme=dark] .colab-df-convert {\n",
              "      background-color: #3B4455;\n",
              "      fill: #D2E3FC;\n",
              "    }\n",
              "\n",
              "    [theme=dark] .colab-df-convert:hover {\n",
              "      background-color: #434B5C;\n",
              "      box-shadow: 0px 1px 3px 1px rgba(0, 0, 0, 0.15);\n",
              "      filter: drop-shadow(0px 1px 2px rgba(0, 0, 0, 0.3));\n",
              "      fill: #FFFFFF;\n",
              "    }\n",
              "  </style>\n",
              "\n",
              "      <script>\n",
              "        const buttonEl =\n",
              "          document.querySelector('#df-3daa4379-f3ce-4430-8e18-8695d556fec6 button.colab-df-convert');\n",
              "        buttonEl.style.display =\n",
              "          google.colab.kernel.accessAllowed ? 'block' : 'none';\n",
              "\n",
              "        async function convertToInteractive(key) {\n",
              "          const element = document.querySelector('#df-3daa4379-f3ce-4430-8e18-8695d556fec6');\n",
              "          const dataTable =\n",
              "            await google.colab.kernel.invokeFunction('convertToInteractive',\n",
              "                                                     [key], {});\n",
              "          if (!dataTable) return;\n",
              "\n",
              "          const docLinkHtml = 'Like what you see? Visit the ' +\n",
              "            '<a target=\"_blank\" href=https://colab.research.google.com/notebooks/data_table.ipynb>data table notebook</a>'\n",
              "            + ' to learn more about interactive tables.';\n",
              "          element.innerHTML = '';\n",
              "          dataTable['output_type'] = 'display_data';\n",
              "          await google.colab.output.renderOutput(dataTable, element);\n",
              "          const docLink = document.createElement('div');\n",
              "          docLink.innerHTML = docLinkHtml;\n",
              "          element.appendChild(docLink);\n",
              "        }\n",
              "      </script>\n",
              "    </div>\n",
              "  </div>\n",
              "  "
            ]
          },
          "metadata": {},
          "execution_count": 61
        }
      ],
      "source": [
        "ratings_grouped_by_movies.head(3)"
      ]
    },
    {
      "cell_type": "code",
      "execution_count": 18,
      "metadata": {
        "id": "bXcgEYNbtKbr"
      },
      "outputs": [],
      "source": [
        "ratings_grouped_by_movies = ratings_grouped_by_movies.drop('userId', axis=1)"
      ]
    },
    {
      "cell_type": "markdown",
      "metadata": {
        "id": "UgTfVhAPtKbt"
      },
      "source": [
        "# Content based filtering\n"
      ]
    },
    {
      "cell_type": "markdown",
      "metadata": {
        "id": "sbc7DaBrtKbt"
      },
      "source": [
        ".\n",
        "\n",
        "#Cosine similarity#\n",
        "**That means higher the value more similar they are. But as the function gives us the distance, we will deduct it from 1.**"
      ]
    },
    {
      "cell_type": "markdown",
      "source": [
        "Here We are  finding total type of geners by TfidVectorizer. then find similarity of movies by cossine similarity algorithm"
      ],
      "metadata": {
        "id": "96tuldk4trRG"
      }
    },
    {
      "cell_type": "code",
      "execution_count": 25,
      "metadata": {
        "id": "Sbnq_PujtKbt",
        "colab": {
          "base_uri": "https://localhost:8080/"
        },
        "outputId": "4371e6d7-5234-4cad-fc5c-12a8bf768aa2"
      },
      "outputs": [
        {
          "output_type": "stream",
          "name": "stdout",
          "text": [
            "['action', 'adventure', 'animation', 'children', 'comedy', 'crime', 'documentary', 'drama', 'fantasy', 'film-noir', 'horror', 'imax', 'musical', 'mystery', 'romance', 'sci-fi', 'thriller', 'war', 'western']\n",
            "(9742, 19)\n",
            "float64\n",
            "[[1.         0.81357774 0.15276924 ... 0.         0.4210373  0.26758648]\n",
            " [0.81357774 1.         0.         ... 0.         0.         0.        ]\n",
            " [0.15276924 0.         1.         ... 0.         0.         0.57091541]\n",
            " ...\n",
            " [0.         0.         0.         ... 1.         0.         0.        ]\n",
            " [0.4210373  0.         0.         ... 0.         1.         0.        ]\n",
            " [0.26758648 0.         0.57091541 ... 0.         0.         1.        ]]\n"
          ]
        }
      ],
      "source": [
        "# Define a TF-IDF Vectorizer Object.\n",
        "tfidf_movies_genres = TfidfVectorizer(token_pattern = '[a-zA-Z0-9\\-]+')\n",
        "\n",
        "#Replace NaN with an empty string\n",
        "df_movies['genres'] = df_movies['genres'].replace(to_replace=\"(no genres listed)\", value=\"\")\n",
        "\n",
        "#Construct the required TF-IDF matrix by fitting and transforming the data\n",
        "tfidf_movies_genres_matrix = tfidf_movies_genres.fit_transform(df_movies['genres'])\n",
        "print(tfidf_movies_genres.get_feature_names())\n",
        "# Compute the cosine similarity matrix\n",
        "print(tfidf_movies_genres_matrix.shape)\n",
        "print(tfidf_movies_genres_matrix.dtype)\n",
        "cosine_sim_movies = linear_kernel(tfidf_movies_genres_matrix, tfidf_movies_genres_matrix)\n",
        "print(cosine_sim_movies)"
      ]
    },
    {
      "cell_type": "markdown",
      "source": [
        "Here We are finding top 2 most recommend movies based on a particular movie. that is most similar movie when we give a input movie"
      ],
      "metadata": {
        "id": "v7-9zQAauriF"
      }
    },
    {
      "cell_type": "markdown",
      "source": [
        "\n",
        "    Calculates top 2 movies to recommend based on given movie titles genres. \n",
        "    :param movie_title: title of movie to be taken for base of recommendation\n",
        "    :param cosine_sim_movies: cosine similarity between movies \n",
        "    :return: Titles of movies recommended to user\n",
        "    "
      ],
      "metadata": {
        "id": "dQVtomB4ssUu"
      }
    },
    {
      "cell_type": "markdown",
      "source": [
        "begnning of a program- to get most recommend movies based on a particular movie"
      ],
      "metadata": {
        "id": "8p-o0SujvJwZ"
      }
    },
    {
      "cell_type": "code",
      "execution_count": 27,
      "metadata": {
        "id": "Od7l3Kv_tKbu"
      },
      "outputs": [],
      "source": [
        "def get_recommendations_based_on_genres(movie_title, cosine_sim_movies=cosine_sim_movies):\n",
        "   \n",
        "    # Get the index of the movie that matches the title\n",
        "    idx_movie = df_movies.loc[df_movies['title'].isin([movie_title])]\n",
        "    idx_movie = idx_movie.index\n",
        "    \n",
        "    # Get the pairwsie similarity scores of all movies with that movie\n",
        "    sim_scores_movies = list(enumerate(cosine_sim_movies[idx_movie][0]))\n",
        "    \n",
        "    # Sort the movies based on the similarity scores\n",
        "    sim_scores_movies = sorted(sim_scores_movies, key=lambda x: x[1], reverse=True)\n",
        "\n",
        "    # Get the scores of the 10 most similar movies\n",
        "    sim_scores_movies = sim_scores_movies[1:3]\n",
        "    \n",
        "    # Get the movie indices\n",
        "    movie_indices = [i[0] for i in sim_scores_movies]\n",
        "    \n",
        "    # Return the top 2 most similar movies\n",
        "    return df_movies['title'].iloc[movie_indices]\n"
      ]
    },
    {
      "cell_type": "markdown",
      "source": [
        "function call"
      ],
      "metadata": {
        "id": "lP-8fk3mvcW_"
      }
    },
    {
      "cell_type": "code",
      "execution_count": null,
      "metadata": {
        "colab": {
          "base_uri": "https://localhost:8080/"
        },
        "id": "DN_oBX-jtKbu",
        "outputId": "f14fed8f-be79-47fa-fd7f-bfcc394d6f67"
      },
      "outputs": [
        {
          "output_type": "execute_result",
          "data": {
            "text/plain": [
              "17                        Four Rooms (1995)\n",
              "18    Ace Ventura: When Nature Calls (1995)\n",
              "Name: title, dtype: object"
            ]
          },
          "metadata": {},
          "execution_count": 70
        }
      ],
      "source": [
        "get_recommendations_based_on_genres(\"Father of the Bride Part II (1995)\")"
      ]
    },
    {
      "cell_type": "markdown",
      "source": [
        "This part is for recommending top movies to a user based on the watching history of user"
      ],
      "metadata": {
        "id": "TDFct9V3ypLm"
      }
    },
    {
      "cell_type": "markdown",
      "source": [
        "    \"\"\"\n",
        "    Calculates top movies to be recommended to user based on movie user has watched.  \n",
        "    :param userId: userid of user\n",
        "    :return: Titles of movies recommended to user\n",
        "    \"\"\""
      ],
      "metadata": {
        "id": "cHRXh952yZKf"
      }
    },
    {
      "cell_type": "markdown",
      "source": [
        "Here we give input of user base don the users watching history top movies based on that will be recommended"
      ],
      "metadata": {
        "id": "S4VPqrSfzD36"
      }
    },
    {
      "cell_type": "code",
      "execution_count": 28,
      "metadata": {
        "colab": {
          "base_uri": "https://localhost:8080/"
        },
        "id": "K_Vy2LBFtKbu",
        "outputId": "4fbe24fc-78d4-4d35-8713-d409c6e79887"
      },
      "outputs": [
        {
          "output_type": "execute_result",
          "data": {
            "text/plain": [
              "{'39 Steps, The (1935)',\n",
              " 'Ace Ventura: When Nature Calls (1995)',\n",
              " 'Amateur (1994)',\n",
              " 'Apocalypse Now (1979)',\n",
              " 'Assassins (1995)',\n",
              " 'Batman Begins (2005)',\n",
              " 'Ben-Hur (1959)',\n",
              " 'Boot, Das (Boat, The) (1981)',\n",
              " 'Catwalk (1996)',\n",
              " 'City Hall (1996)',\n",
              " 'Clear and Present Danger (1994)',\n",
              " 'Cloud Atlas (2012)',\n",
              " 'Dangerous Minds (1995)',\n",
              " 'Dead Man Walking (1995)',\n",
              " 'Deep Impact (1998)',\n",
              " 'Die Hard: With a Vengeance (1995)',\n",
              " 'Escape from L.A. (1996)',\n",
              " 'Four Rooms (1995)',\n",
              " 'Game, The (1997)',\n",
              " 'Gattaca (1997)',\n",
              " 'Hands on a Hard Body (1996)',\n",
              " 'Heidi Fleiss: Hollywood Madam (1995)',\n",
              " 'Independence Day (a.k.a. ID4) (1996)',\n",
              " 'It Came from Hollywood (1982)',\n",
              " 'Jimmy Hollywood (1994)',\n",
              " 'Juror, The (1996)',\n",
              " 'Kiss of Death (1995)',\n",
              " 'Leaving Las Vegas (1995)',\n",
              " 'Low Down Dirty Shame, A (1994)',\n",
              " 'LÃ©on: The Professional (a.k.a. The Professional) (LÃ©on) (1994)',\n",
              " 'Man in the Iron Mask, The (1998)',\n",
              " 'Naked Gun 33 1/3: The Final Insult (1994)',\n",
              " 'Need for Speed (2014)',\n",
              " \"Once Upon a Time in the West (C'era una volta il West) (1968)\",\n",
              " 'Othello (1995)',\n",
              " 'Persuasion (1995)',\n",
              " 'Shanghai Triad (Yao a yao yao dao waipo qiao) (1995)',\n",
              " 'Super 8 (2011)',\n",
              " 'Trainspotting (1996)',\n",
              " 'Transcendence (2014)',\n",
              " 'Watchmen (2009)',\n",
              " 'Zombeavers (2014)'}"
            ]
          },
          "metadata": {},
          "execution_count": 28
        }
      ],
      "source": [
        "def get_recommendation_content_model(userId):\n",
        "  \n",
        "    recommended_movie_list = []\n",
        "    movie_list = []\n",
        "    df_rating_filtered = df_ratings[df_ratings[\"userId\"]== userId]\n",
        "    for key, row in df_rating_filtered.iterrows():\n",
        "        movie_list.append((df_movies[\"title\"][row[\"movieId\"]==df_movies[\"movieId\"]]).values) \n",
        "    for index, movie in enumerate(movie_list):\n",
        "        for key, movie_recommended in get_recommendations_based_on_genres(movie[0]).iteritems():\n",
        "            recommended_movie_list.append(movie_recommended)\n",
        "\n",
        "    # removing already watched movie from recommended list \n",
        "    for movie_title in recommended_movie_list:\n",
        "        if movie_title in movie_list:\n",
        "            recommended_movie_list.remove(movie_title)\n",
        "    \n",
        "    return set(recommended_movie_list)\n",
        "get_recommendation_content_model(2)"
      ]
    },
    {
      "cell_type": "markdown",
      "metadata": {
        "id": "SOq5tZdBtKb8"
      },
      "source": [
        "## Model-Based Collaborative Filtering"
      ]
    },
    {
      "cell_type": "markdown",
      "metadata": {
        "id": "dczg54AetKb8"
      },
      "source": [
        "<b>Model-based Collaborative Filtering</b> "
      ]
    },
    {
      "cell_type": "code",
      "source": [
        "# Import libraries\n",
        "import numpy as np\n",
        "import pandas as pd\n",
        "\n",
        "# Reading ratings file\n",
        "ratings = pd.read_csv('ratings.csv', sep=',', encoding='latin-1', usecols=['userId','movieId','rating','timestamp'])\n",
        "\n",
        "# Reading users file\n",
        "#users = pd.read_csv('users.dat', sep='\\t', encoding='latin-1', usecols=['user_id', 'gender', 'zipcode', 'age_desc', 'occ_desc'])\n",
        "\n",
        "# Reading movies file\n",
        "movies = pd.read_csv('movies.csv', sep=',', encoding='latin-1', usecols=['movieId','title','genres'])\n"
      ],
      "metadata": {
        "id": "T6nplmzd7Z8U"
      },
      "execution_count": 33,
      "outputs": []
    },
    {
      "cell_type": "code",
      "source": [
        "\n",
        "n_users = ratings.userId.unique().shape[0]\n",
        "n_movies = ratings.movieId.unique().shape[0]\n",
        "print('Number of users = ' + str(n_users) + ' | Number of movies = ' + str(n_movies))"
      ],
      "metadata": {
        "colab": {
          "base_uri": "https://localhost:8080/"
        },
        "id": "hKnFrRTR7cXN",
        "outputId": "fabb0fcd-3daa-4358-ff73-d884d6e53f33"
      },
      "execution_count": 34,
      "outputs": [
        {
          "output_type": "stream",
          "name": "stdout",
          "text": [
            "Number of users = 610 | Number of movies = 9724\n"
          ]
        }
      ]
    },
    {
      "cell_type": "code",
      "source": [
        "Ratings = ratings.pivot(index = 'userId', columns ='movieId', values = 'rating').fillna(0)\n",
        "Ratings.head()"
      ],
      "metadata": {
        "colab": {
          "base_uri": "https://localhost:8080/",
          "height": 331
        },
        "id": "llEUCr2F7szs",
        "outputId": "34b968c9-ffbc-4437-87bc-51e3ddb66dad"
      },
      "execution_count": 35,
      "outputs": [
        {
          "output_type": "execute_result",
          "data": {
            "text/plain": [
              "movieId  1       2       3       4       5       6       7       8       \\\n",
              "userId                                                                    \n",
              "1           4.0     0.0     4.0     0.0     0.0     4.0     0.0     0.0   \n",
              "2           0.0     0.0     0.0     0.0     0.0     0.0     0.0     0.0   \n",
              "3           0.0     0.0     0.0     0.0     0.0     0.0     0.0     0.0   \n",
              "4           0.0     0.0     0.0     0.0     0.0     0.0     0.0     0.0   \n",
              "5           4.0     0.0     0.0     0.0     0.0     0.0     0.0     0.0   \n",
              "\n",
              "movieId  9       10      ...  193565  193567  193571  193573  193579  193581  \\\n",
              "userId                   ...                                                   \n",
              "1           0.0     0.0  ...     0.0     0.0     0.0     0.0     0.0     0.0   \n",
              "2           0.0     0.0  ...     0.0     0.0     0.0     0.0     0.0     0.0   \n",
              "3           0.0     0.0  ...     0.0     0.0     0.0     0.0     0.0     0.0   \n",
              "4           0.0     0.0  ...     0.0     0.0     0.0     0.0     0.0     0.0   \n",
              "5           0.0     0.0  ...     0.0     0.0     0.0     0.0     0.0     0.0   \n",
              "\n",
              "movieId  193583  193585  193587  193609  \n",
              "userId                                   \n",
              "1           0.0     0.0     0.0     0.0  \n",
              "2           0.0     0.0     0.0     0.0  \n",
              "3           0.0     0.0     0.0     0.0  \n",
              "4           0.0     0.0     0.0     0.0  \n",
              "5           0.0     0.0     0.0     0.0  \n",
              "\n",
              "[5 rows x 9724 columns]"
            ],
            "text/html": [
              "\n",
              "  <div id=\"df-8c68b233-bbfe-4b21-83a3-7acf7aa0b071\">\n",
              "    <div class=\"colab-df-container\">\n",
              "      <div>\n",
              "<style scoped>\n",
              "    .dataframe tbody tr th:only-of-type {\n",
              "        vertical-align: middle;\n",
              "    }\n",
              "\n",
              "    .dataframe tbody tr th {\n",
              "        vertical-align: top;\n",
              "    }\n",
              "\n",
              "    .dataframe thead th {\n",
              "        text-align: right;\n",
              "    }\n",
              "</style>\n",
              "<table border=\"1\" class=\"dataframe\">\n",
              "  <thead>\n",
              "    <tr style=\"text-align: right;\">\n",
              "      <th>movieId</th>\n",
              "      <th>1</th>\n",
              "      <th>2</th>\n",
              "      <th>3</th>\n",
              "      <th>4</th>\n",
              "      <th>5</th>\n",
              "      <th>6</th>\n",
              "      <th>7</th>\n",
              "      <th>8</th>\n",
              "      <th>9</th>\n",
              "      <th>10</th>\n",
              "      <th>...</th>\n",
              "      <th>193565</th>\n",
              "      <th>193567</th>\n",
              "      <th>193571</th>\n",
              "      <th>193573</th>\n",
              "      <th>193579</th>\n",
              "      <th>193581</th>\n",
              "      <th>193583</th>\n",
              "      <th>193585</th>\n",
              "      <th>193587</th>\n",
              "      <th>193609</th>\n",
              "    </tr>\n",
              "    <tr>\n",
              "      <th>userId</th>\n",
              "      <th></th>\n",
              "      <th></th>\n",
              "      <th></th>\n",
              "      <th></th>\n",
              "      <th></th>\n",
              "      <th></th>\n",
              "      <th></th>\n",
              "      <th></th>\n",
              "      <th></th>\n",
              "      <th></th>\n",
              "      <th></th>\n",
              "      <th></th>\n",
              "      <th></th>\n",
              "      <th></th>\n",
              "      <th></th>\n",
              "      <th></th>\n",
              "      <th></th>\n",
              "      <th></th>\n",
              "      <th></th>\n",
              "      <th></th>\n",
              "      <th></th>\n",
              "    </tr>\n",
              "  </thead>\n",
              "  <tbody>\n",
              "    <tr>\n",
              "      <th>1</th>\n",
              "      <td>4.0</td>\n",
              "      <td>0.0</td>\n",
              "      <td>4.0</td>\n",
              "      <td>0.0</td>\n",
              "      <td>0.0</td>\n",
              "      <td>4.0</td>\n",
              "      <td>0.0</td>\n",
              "      <td>0.0</td>\n",
              "      <td>0.0</td>\n",
              "      <td>0.0</td>\n",
              "      <td>...</td>\n",
              "      <td>0.0</td>\n",
              "      <td>0.0</td>\n",
              "      <td>0.0</td>\n",
              "      <td>0.0</td>\n",
              "      <td>0.0</td>\n",
              "      <td>0.0</td>\n",
              "      <td>0.0</td>\n",
              "      <td>0.0</td>\n",
              "      <td>0.0</td>\n",
              "      <td>0.0</td>\n",
              "    </tr>\n",
              "    <tr>\n",
              "      <th>2</th>\n",
              "      <td>0.0</td>\n",
              "      <td>0.0</td>\n",
              "      <td>0.0</td>\n",
              "      <td>0.0</td>\n",
              "      <td>0.0</td>\n",
              "      <td>0.0</td>\n",
              "      <td>0.0</td>\n",
              "      <td>0.0</td>\n",
              "      <td>0.0</td>\n",
              "      <td>0.0</td>\n",
              "      <td>...</td>\n",
              "      <td>0.0</td>\n",
              "      <td>0.0</td>\n",
              "      <td>0.0</td>\n",
              "      <td>0.0</td>\n",
              "      <td>0.0</td>\n",
              "      <td>0.0</td>\n",
              "      <td>0.0</td>\n",
              "      <td>0.0</td>\n",
              "      <td>0.0</td>\n",
              "      <td>0.0</td>\n",
              "    </tr>\n",
              "    <tr>\n",
              "      <th>3</th>\n",
              "      <td>0.0</td>\n",
              "      <td>0.0</td>\n",
              "      <td>0.0</td>\n",
              "      <td>0.0</td>\n",
              "      <td>0.0</td>\n",
              "      <td>0.0</td>\n",
              "      <td>0.0</td>\n",
              "      <td>0.0</td>\n",
              "      <td>0.0</td>\n",
              "      <td>0.0</td>\n",
              "      <td>...</td>\n",
              "      <td>0.0</td>\n",
              "      <td>0.0</td>\n",
              "      <td>0.0</td>\n",
              "      <td>0.0</td>\n",
              "      <td>0.0</td>\n",
              "      <td>0.0</td>\n",
              "      <td>0.0</td>\n",
              "      <td>0.0</td>\n",
              "      <td>0.0</td>\n",
              "      <td>0.0</td>\n",
              "    </tr>\n",
              "    <tr>\n",
              "      <th>4</th>\n",
              "      <td>0.0</td>\n",
              "      <td>0.0</td>\n",
              "      <td>0.0</td>\n",
              "      <td>0.0</td>\n",
              "      <td>0.0</td>\n",
              "      <td>0.0</td>\n",
              "      <td>0.0</td>\n",
              "      <td>0.0</td>\n",
              "      <td>0.0</td>\n",
              "      <td>0.0</td>\n",
              "      <td>...</td>\n",
              "      <td>0.0</td>\n",
              "      <td>0.0</td>\n",
              "      <td>0.0</td>\n",
              "      <td>0.0</td>\n",
              "      <td>0.0</td>\n",
              "      <td>0.0</td>\n",
              "      <td>0.0</td>\n",
              "      <td>0.0</td>\n",
              "      <td>0.0</td>\n",
              "      <td>0.0</td>\n",
              "    </tr>\n",
              "    <tr>\n",
              "      <th>5</th>\n",
              "      <td>4.0</td>\n",
              "      <td>0.0</td>\n",
              "      <td>0.0</td>\n",
              "      <td>0.0</td>\n",
              "      <td>0.0</td>\n",
              "      <td>0.0</td>\n",
              "      <td>0.0</td>\n",
              "      <td>0.0</td>\n",
              "      <td>0.0</td>\n",
              "      <td>0.0</td>\n",
              "      <td>...</td>\n",
              "      <td>0.0</td>\n",
              "      <td>0.0</td>\n",
              "      <td>0.0</td>\n",
              "      <td>0.0</td>\n",
              "      <td>0.0</td>\n",
              "      <td>0.0</td>\n",
              "      <td>0.0</td>\n",
              "      <td>0.0</td>\n",
              "      <td>0.0</td>\n",
              "      <td>0.0</td>\n",
              "    </tr>\n",
              "  </tbody>\n",
              "</table>\n",
              "<p>5 rows × 9724 columns</p>\n",
              "</div>\n",
              "      <button class=\"colab-df-convert\" onclick=\"convertToInteractive('df-8c68b233-bbfe-4b21-83a3-7acf7aa0b071')\"\n",
              "              title=\"Convert this dataframe to an interactive table.\"\n",
              "              style=\"display:none;\">\n",
              "        \n",
              "  <svg xmlns=\"http://www.w3.org/2000/svg\" height=\"24px\"viewBox=\"0 0 24 24\"\n",
              "       width=\"24px\">\n",
              "    <path d=\"M0 0h24v24H0V0z\" fill=\"none\"/>\n",
              "    <path d=\"M18.56 5.44l.94 2.06.94-2.06 2.06-.94-2.06-.94-.94-2.06-.94 2.06-2.06.94zm-11 1L8.5 8.5l.94-2.06 2.06-.94-2.06-.94L8.5 2.5l-.94 2.06-2.06.94zm10 10l.94 2.06.94-2.06 2.06-.94-2.06-.94-.94-2.06-.94 2.06-2.06.94z\"/><path d=\"M17.41 7.96l-1.37-1.37c-.4-.4-.92-.59-1.43-.59-.52 0-1.04.2-1.43.59L10.3 9.45l-7.72 7.72c-.78.78-.78 2.05 0 2.83L4 21.41c.39.39.9.59 1.41.59.51 0 1.02-.2 1.41-.59l7.78-7.78 2.81-2.81c.8-.78.8-2.07 0-2.86zM5.41 20L4 18.59l7.72-7.72 1.47 1.35L5.41 20z\"/>\n",
              "  </svg>\n",
              "      </button>\n",
              "      \n",
              "  <style>\n",
              "    .colab-df-container {\n",
              "      display:flex;\n",
              "      flex-wrap:wrap;\n",
              "      gap: 12px;\n",
              "    }\n",
              "\n",
              "    .colab-df-convert {\n",
              "      background-color: #E8F0FE;\n",
              "      border: none;\n",
              "      border-radius: 50%;\n",
              "      cursor: pointer;\n",
              "      display: none;\n",
              "      fill: #1967D2;\n",
              "      height: 32px;\n",
              "      padding: 0 0 0 0;\n",
              "      width: 32px;\n",
              "    }\n",
              "\n",
              "    .colab-df-convert:hover {\n",
              "      background-color: #E2EBFA;\n",
              "      box-shadow: 0px 1px 2px rgba(60, 64, 67, 0.3), 0px 1px 3px 1px rgba(60, 64, 67, 0.15);\n",
              "      fill: #174EA6;\n",
              "    }\n",
              "\n",
              "    [theme=dark] .colab-df-convert {\n",
              "      background-color: #3B4455;\n",
              "      fill: #D2E3FC;\n",
              "    }\n",
              "\n",
              "    [theme=dark] .colab-df-convert:hover {\n",
              "      background-color: #434B5C;\n",
              "      box-shadow: 0px 1px 3px 1px rgba(0, 0, 0, 0.15);\n",
              "      filter: drop-shadow(0px 1px 2px rgba(0, 0, 0, 0.3));\n",
              "      fill: #FFFFFF;\n",
              "    }\n",
              "  </style>\n",
              "\n",
              "      <script>\n",
              "        const buttonEl =\n",
              "          document.querySelector('#df-8c68b233-bbfe-4b21-83a3-7acf7aa0b071 button.colab-df-convert');\n",
              "        buttonEl.style.display =\n",
              "          google.colab.kernel.accessAllowed ? 'block' : 'none';\n",
              "\n",
              "        async function convertToInteractive(key) {\n",
              "          const element = document.querySelector('#df-8c68b233-bbfe-4b21-83a3-7acf7aa0b071');\n",
              "          const dataTable =\n",
              "            await google.colab.kernel.invokeFunction('convertToInteractive',\n",
              "                                                     [key], {});\n",
              "          if (!dataTable) return;\n",
              "\n",
              "          const docLinkHtml = 'Like what you see? Visit the ' +\n",
              "            '<a target=\"_blank\" href=https://colab.research.google.com/notebooks/data_table.ipynb>data table notebook</a>'\n",
              "            + ' to learn more about interactive tables.';\n",
              "          element.innerHTML = '';\n",
              "          dataTable['output_type'] = 'display_data';\n",
              "          await google.colab.output.renderOutput(dataTable, element);\n",
              "          const docLink = document.createElement('div');\n",
              "          docLink.innerHTML = docLinkHtml;\n",
              "          element.appendChild(docLink);\n",
              "        }\n",
              "      </script>\n",
              "    </div>\n",
              "  </div>\n",
              "  "
            ]
          },
          "metadata": {},
          "execution_count": 35
        }
      ]
    },
    {
      "cell_type": "code",
      "source": [
        "R = Ratings.to_numpy()\n",
        "#print(R)\n",
        "user_ratings_mean = np.mean(R, axis = 1)\n",
        "#print(user_ratings_mean.shape)\n",
        "print(user_ratings_mean.size)\n",
        "Ratings_demeaned = R - user_ratings_mean.reshape(-1, 1) ## Making the user_ratings_mean vertical by reshaping"
      ],
      "metadata": {
        "colab": {
          "base_uri": "https://localhost:8080/"
        },
        "id": "6jmgX0ZU73Sm",
        "outputId": "3c567530-bb63-4153-a38c-109ae81c98b2"
      },
      "execution_count": 36,
      "outputs": [
        {
          "output_type": "stream",
          "name": "stdout",
          "text": [
            "610\n"
          ]
        }
      ]
    },
    {
      "cell_type": "code",
      "execution_count": 37,
      "metadata": {
        "colab": {
          "base_uri": "https://localhost:8080/"
        },
        "id": "UJw49V0MtKb8",
        "outputId": "7880290a-beee-43d5-c90f-758a810a04c0"
      },
      "outputs": [
        {
          "output_type": "stream",
          "name": "stdout",
          "text": [
            "The sparsity level of MovieLens100K dataset is 98.3%\n"
          ]
        }
      ],
      "source": [
        "sparsity = round(1.0 - len(ratings) / float(n_users * n_movies), 3)\n",
        "print('The sparsity level of MovieLens100K dataset is ' +  str(sparsity * 100) + '%')"
      ]
    },
    {
      "cell_type": "markdown",
      "metadata": {
        "id": "hDHXb2zGtKb9"
      },
      "source": [
        "## Setting Up SVD"
      ]
    },
    {
      "cell_type": "markdown",
      "metadata": {
        "id": "NBa12rCXtKb9"
      },
      "source": [
        "Scipy and Numpy both have functions to do the singular value decomposition. Scipy function svd choose how many latent factors we want to use to approximate the original ratings matrix (instead of having to truncate it after)."
      ]
    },
    {
      "cell_type": "code",
      "execution_count": 38,
      "metadata": {
        "id": "wjGv5VnwtKb9"
      },
      "outputs": [],
      "source": [
        "from scipy.sparse.linalg import svds "
      ]
    },
    {
      "cell_type": "code",
      "execution_count": 39,
      "metadata": {
        "id": "dEiEXuyRtKb9"
      },
      "outputs": [],
      "source": [
        "U, sigma, Vt = svds(Ratings_demeaned, k = 50)"
      ]
    },
    {
      "cell_type": "code",
      "execution_count": 40,
      "metadata": {
        "colab": {
          "base_uri": "https://localhost:8080/"
        },
        "id": "t15TgXVOtKb9",
        "outputId": "41242c71-cbd2-4a3c-ad52-9a3a663386da"
      },
      "outputs": [
        {
          "output_type": "stream",
          "name": "stdout",
          "text": [
            "Size of sigma:  50\n"
          ]
        }
      ],
      "source": [
        "print('Size of sigma: ' , sigma.size)"
      ]
    },
    {
      "cell_type": "markdown",
      "metadata": {
        "id": "vOHArDMdtKb-"
      },
      "source": [
        "As we are going to leverage matrix multiplication to get predictions, we willl convert the $\\Sigma$ (now are values) to the diagonal matrix form."
      ]
    },
    {
      "cell_type": "code",
      "execution_count": 41,
      "metadata": {
        "id": "zIR-xh0GtKb-"
      },
      "outputs": [],
      "source": [
        "sigma = np.diag(sigma)"
      ]
    },
    {
      "cell_type": "code",
      "execution_count": 42,
      "metadata": {
        "scrolled": true,
        "colab": {
          "base_uri": "https://localhost:8080/"
        },
        "id": "kSUW-AYltKb-",
        "outputId": "7e36806e-ed95-45a1-cd29-c6e8409f3cc4"
      },
      "outputs": [
        {
          "output_type": "stream",
          "name": "stdout",
          "text": [
            "Shape of sigma:  (50, 50)\n",
            "[[ 67.86628347   0.           0.         ...   0.           0.\n",
            "    0.        ]\n",
            " [  0.          68.1967072    0.         ...   0.           0.\n",
            "    0.        ]\n",
            " [  0.           0.          69.02678246 ...   0.           0.\n",
            "    0.        ]\n",
            " ...\n",
            " [  0.           0.           0.         ... 184.86187801   0.\n",
            "    0.        ]\n",
            " [  0.           0.           0.         ...   0.         231.22453421\n",
            "    0.        ]\n",
            " [  0.           0.           0.         ...   0.           0.\n",
            "  474.20606204]]\n"
          ]
        }
      ],
      "source": [
        "print('Shape of sigma: ', sigma.shape)\n",
        "print(sigma)"
      ]
    },
    {
      "cell_type": "code",
      "execution_count": 43,
      "metadata": {
        "colab": {
          "base_uri": "https://localhost:8080/"
        },
        "id": "raL9U2ZbtKb-",
        "outputId": "8ba65f6d-f9be-43db-86f6-3b6debb9633a"
      },
      "outputs": [
        {
          "output_type": "stream",
          "name": "stdout",
          "text": [
            "Shape of U:  (610, 50)\n",
            "Shape of Vt:  (50, 9724)\n"
          ]
        }
      ],
      "source": [
        "print('Shape of U: ', U.shape)\n",
        "print('Shape of Vt: ', Vt.shape)"
      ]
    },
    {
      "cell_type": "markdown",
      "metadata": {
        "id": "Smu6EwShtKcA"
      },
      "source": [
        "## Making Predictions from the Decomposed Matrices(Final Step for movie prediction)"
      ]
    },
    {
      "cell_type": "markdown",
      "metadata": {
        "id": "jrd5k8TgtKcA"
      },
      "source": [
        "It is done by following the math and matrix multiply $U$, $\\Sigma$, and $V^{T}$ back to get the rank $k=50$ approximation of $A$.\n",
        "\n",
        "But first, we need to add the user means back to get the actual star ratings prediction."
      ]
    },
    {
      "cell_type": "code",
      "execution_count": 44,
      "metadata": {
        "id": "ntAmFlXrtKcA"
      },
      "outputs": [],
      "source": [
        "all_user_predicted_ratings = np.dot(np.dot(U, sigma), Vt) + user_ratings_mean.reshape(-1, 1)"
      ]
    },
    {
      "cell_type": "code",
      "execution_count": 45,
      "metadata": {
        "scrolled": true,
        "colab": {
          "base_uri": "https://localhost:8080/"
        },
        "id": "EX2N8316tKcA",
        "outputId": "28511867-7701-4e7c-cfeb-12f5b4f9bfb6"
      },
      "outputs": [
        {
          "output_type": "stream",
          "name": "stdout",
          "text": [
            "All user predicted rating :  (610, 9724)\n"
          ]
        }
      ],
      "source": [
        "print('All user predicted rating : ', all_user_predicted_ratings.shape)"
      ]
    },
    {
      "cell_type": "markdown",
      "metadata": {
        "id": "S8DLFg8TtKcB"
      },
      "source": [
        "With the predictions matrix for every user, we can build a function to recommend movies for any user. We return the list of movies the user has already rated, for the sake of comparison."
      ]
    },
    {
      "cell_type": "markdown",
      "metadata": {
        "id": "UkAizAc9tKcB"
      },
      "source": [
        "We will use the column names from the ratings df"
      ]
    },
    {
      "cell_type": "code",
      "execution_count": 46,
      "metadata": {
        "scrolled": true,
        "colab": {
          "base_uri": "https://localhost:8080/"
        },
        "id": "A0RwWuWKtKcB",
        "outputId": "c72281c9-ede1-444f-bd12-7fb062ba40a3"
      },
      "outputs": [
        {
          "output_type": "stream",
          "name": "stdout",
          "text": [
            "Rating Dataframe column names Int64Index([     1,      2,      3,      4,      5,      6,      7,      8,\n",
            "                 9,     10,\n",
            "            ...\n",
            "            193565, 193567, 193571, 193573, 193579, 193581, 193583, 193585,\n",
            "            193587, 193609],\n",
            "           dtype='int64', name='movieId', length=9724)\n"
          ]
        }
      ],
      "source": [
        "print('Rating Dataframe column names', Ratings.columns)"
      ]
    },
    {
      "cell_type": "code",
      "execution_count": 47,
      "metadata": {
        "scrolled": true,
        "colab": {
          "base_uri": "https://localhost:8080/",
          "height": 300
        },
        "id": "w3wSCun2tKcC",
        "outputId": "8b2f078a-f2ab-4dac-a033-68bce6799709"
      },
      "outputs": [
        {
          "output_type": "execute_result",
          "data": {
            "text/plain": [
              "movieId    1         2         3         4         5         6         7       \\\n",
              "0        2.167328  0.402751  0.840184 -0.076281 -0.551337  2.504091 -0.890114   \n",
              "1        0.211459  0.006658  0.033455  0.017419  0.183430 -0.062473  0.083037   \n",
              "2        0.003588  0.030518  0.046393  0.008176 -0.006247  0.107328 -0.012416   \n",
              "3        2.051549 -0.387104 -0.252199  0.087562  0.130465  0.270210  0.477835   \n",
              "4        1.344738  0.778511  0.065749  0.111744  0.273144  0.584426  0.254930   \n",
              "\n",
              "movieId    8         9         10      ...    193565    193567    193571  \\\n",
              "0       -0.026443  0.196974  1.593259  ... -0.023453 -0.019967 -0.026939   \n",
              "1        0.024158  0.049330 -0.152530  ...  0.019498  0.016777  0.022219   \n",
              "2        0.003779  0.007297 -0.059362  ...  0.005909  0.006209  0.005610   \n",
              "3        0.040313  0.025858 -0.017365  ...  0.004836  0.004172  0.005500   \n",
              "4        0.128788 -0.085541  1.023455  ... -0.008042 -0.007419 -0.008664   \n",
              "\n",
              "movieId    193573    193579    193581    193583    193585    193587    193609  \n",
              "0       -0.026939 -0.023453 -0.026939 -0.023453 -0.023453 -0.023453 -0.058732  \n",
              "1        0.022219  0.019498  0.022219  0.019498  0.019498  0.019498  0.032281  \n",
              "2        0.005610  0.005909  0.005610  0.005909  0.005909  0.005909  0.008004  \n",
              "3        0.005500  0.004836  0.005500  0.004836  0.004836  0.004836 -0.023311  \n",
              "4       -0.008664 -0.008042 -0.008664 -0.008042 -0.008042 -0.008042 -0.010127  \n",
              "\n",
              "[5 rows x 9724 columns]"
            ],
            "text/html": [
              "\n",
              "  <div id=\"df-653f898c-5e08-4878-8f61-c48afcd6a509\">\n",
              "    <div class=\"colab-df-container\">\n",
              "      <div>\n",
              "<style scoped>\n",
              "    .dataframe tbody tr th:only-of-type {\n",
              "        vertical-align: middle;\n",
              "    }\n",
              "\n",
              "    .dataframe tbody tr th {\n",
              "        vertical-align: top;\n",
              "    }\n",
              "\n",
              "    .dataframe thead th {\n",
              "        text-align: right;\n",
              "    }\n",
              "</style>\n",
              "<table border=\"1\" class=\"dataframe\">\n",
              "  <thead>\n",
              "    <tr style=\"text-align: right;\">\n",
              "      <th>movieId</th>\n",
              "      <th>1</th>\n",
              "      <th>2</th>\n",
              "      <th>3</th>\n",
              "      <th>4</th>\n",
              "      <th>5</th>\n",
              "      <th>6</th>\n",
              "      <th>7</th>\n",
              "      <th>8</th>\n",
              "      <th>9</th>\n",
              "      <th>10</th>\n",
              "      <th>...</th>\n",
              "      <th>193565</th>\n",
              "      <th>193567</th>\n",
              "      <th>193571</th>\n",
              "      <th>193573</th>\n",
              "      <th>193579</th>\n",
              "      <th>193581</th>\n",
              "      <th>193583</th>\n",
              "      <th>193585</th>\n",
              "      <th>193587</th>\n",
              "      <th>193609</th>\n",
              "    </tr>\n",
              "  </thead>\n",
              "  <tbody>\n",
              "    <tr>\n",
              "      <th>0</th>\n",
              "      <td>2.167328</td>\n",
              "      <td>0.402751</td>\n",
              "      <td>0.840184</td>\n",
              "      <td>-0.076281</td>\n",
              "      <td>-0.551337</td>\n",
              "      <td>2.504091</td>\n",
              "      <td>-0.890114</td>\n",
              "      <td>-0.026443</td>\n",
              "      <td>0.196974</td>\n",
              "      <td>1.593259</td>\n",
              "      <td>...</td>\n",
              "      <td>-0.023453</td>\n",
              "      <td>-0.019967</td>\n",
              "      <td>-0.026939</td>\n",
              "      <td>-0.026939</td>\n",
              "      <td>-0.023453</td>\n",
              "      <td>-0.026939</td>\n",
              "      <td>-0.023453</td>\n",
              "      <td>-0.023453</td>\n",
              "      <td>-0.023453</td>\n",
              "      <td>-0.058732</td>\n",
              "    </tr>\n",
              "    <tr>\n",
              "      <th>1</th>\n",
              "      <td>0.211459</td>\n",
              "      <td>0.006658</td>\n",
              "      <td>0.033455</td>\n",
              "      <td>0.017419</td>\n",
              "      <td>0.183430</td>\n",
              "      <td>-0.062473</td>\n",
              "      <td>0.083037</td>\n",
              "      <td>0.024158</td>\n",
              "      <td>0.049330</td>\n",
              "      <td>-0.152530</td>\n",
              "      <td>...</td>\n",
              "      <td>0.019498</td>\n",
              "      <td>0.016777</td>\n",
              "      <td>0.022219</td>\n",
              "      <td>0.022219</td>\n",
              "      <td>0.019498</td>\n",
              "      <td>0.022219</td>\n",
              "      <td>0.019498</td>\n",
              "      <td>0.019498</td>\n",
              "      <td>0.019498</td>\n",
              "      <td>0.032281</td>\n",
              "    </tr>\n",
              "    <tr>\n",
              "      <th>2</th>\n",
              "      <td>0.003588</td>\n",
              "      <td>0.030518</td>\n",
              "      <td>0.046393</td>\n",
              "      <td>0.008176</td>\n",
              "      <td>-0.006247</td>\n",
              "      <td>0.107328</td>\n",
              "      <td>-0.012416</td>\n",
              "      <td>0.003779</td>\n",
              "      <td>0.007297</td>\n",
              "      <td>-0.059362</td>\n",
              "      <td>...</td>\n",
              "      <td>0.005909</td>\n",
              "      <td>0.006209</td>\n",
              "      <td>0.005610</td>\n",
              "      <td>0.005610</td>\n",
              "      <td>0.005909</td>\n",
              "      <td>0.005610</td>\n",
              "      <td>0.005909</td>\n",
              "      <td>0.005909</td>\n",
              "      <td>0.005909</td>\n",
              "      <td>0.008004</td>\n",
              "    </tr>\n",
              "    <tr>\n",
              "      <th>3</th>\n",
              "      <td>2.051549</td>\n",
              "      <td>-0.387104</td>\n",
              "      <td>-0.252199</td>\n",
              "      <td>0.087562</td>\n",
              "      <td>0.130465</td>\n",
              "      <td>0.270210</td>\n",
              "      <td>0.477835</td>\n",
              "      <td>0.040313</td>\n",
              "      <td>0.025858</td>\n",
              "      <td>-0.017365</td>\n",
              "      <td>...</td>\n",
              "      <td>0.004836</td>\n",
              "      <td>0.004172</td>\n",
              "      <td>0.005500</td>\n",
              "      <td>0.005500</td>\n",
              "      <td>0.004836</td>\n",
              "      <td>0.005500</td>\n",
              "      <td>0.004836</td>\n",
              "      <td>0.004836</td>\n",
              "      <td>0.004836</td>\n",
              "      <td>-0.023311</td>\n",
              "    </tr>\n",
              "    <tr>\n",
              "      <th>4</th>\n",
              "      <td>1.344738</td>\n",
              "      <td>0.778511</td>\n",
              "      <td>0.065749</td>\n",
              "      <td>0.111744</td>\n",
              "      <td>0.273144</td>\n",
              "      <td>0.584426</td>\n",
              "      <td>0.254930</td>\n",
              "      <td>0.128788</td>\n",
              "      <td>-0.085541</td>\n",
              "      <td>1.023455</td>\n",
              "      <td>...</td>\n",
              "      <td>-0.008042</td>\n",
              "      <td>-0.007419</td>\n",
              "      <td>-0.008664</td>\n",
              "      <td>-0.008664</td>\n",
              "      <td>-0.008042</td>\n",
              "      <td>-0.008664</td>\n",
              "      <td>-0.008042</td>\n",
              "      <td>-0.008042</td>\n",
              "      <td>-0.008042</td>\n",
              "      <td>-0.010127</td>\n",
              "    </tr>\n",
              "  </tbody>\n",
              "</table>\n",
              "<p>5 rows × 9724 columns</p>\n",
              "</div>\n",
              "      <button class=\"colab-df-convert\" onclick=\"convertToInteractive('df-653f898c-5e08-4878-8f61-c48afcd6a509')\"\n",
              "              title=\"Convert this dataframe to an interactive table.\"\n",
              "              style=\"display:none;\">\n",
              "        \n",
              "  <svg xmlns=\"http://www.w3.org/2000/svg\" height=\"24px\"viewBox=\"0 0 24 24\"\n",
              "       width=\"24px\">\n",
              "    <path d=\"M0 0h24v24H0V0z\" fill=\"none\"/>\n",
              "    <path d=\"M18.56 5.44l.94 2.06.94-2.06 2.06-.94-2.06-.94-.94-2.06-.94 2.06-2.06.94zm-11 1L8.5 8.5l.94-2.06 2.06-.94-2.06-.94L8.5 2.5l-.94 2.06-2.06.94zm10 10l.94 2.06.94-2.06 2.06-.94-2.06-.94-.94-2.06-.94 2.06-2.06.94z\"/><path d=\"M17.41 7.96l-1.37-1.37c-.4-.4-.92-.59-1.43-.59-.52 0-1.04.2-1.43.59L10.3 9.45l-7.72 7.72c-.78.78-.78 2.05 0 2.83L4 21.41c.39.39.9.59 1.41.59.51 0 1.02-.2 1.41-.59l7.78-7.78 2.81-2.81c.8-.78.8-2.07 0-2.86zM5.41 20L4 18.59l7.72-7.72 1.47 1.35L5.41 20z\"/>\n",
              "  </svg>\n",
              "      </button>\n",
              "      \n",
              "  <style>\n",
              "    .colab-df-container {\n",
              "      display:flex;\n",
              "      flex-wrap:wrap;\n",
              "      gap: 12px;\n",
              "    }\n",
              "\n",
              "    .colab-df-convert {\n",
              "      background-color: #E8F0FE;\n",
              "      border: none;\n",
              "      border-radius: 50%;\n",
              "      cursor: pointer;\n",
              "      display: none;\n",
              "      fill: #1967D2;\n",
              "      height: 32px;\n",
              "      padding: 0 0 0 0;\n",
              "      width: 32px;\n",
              "    }\n",
              "\n",
              "    .colab-df-convert:hover {\n",
              "      background-color: #E2EBFA;\n",
              "      box-shadow: 0px 1px 2px rgba(60, 64, 67, 0.3), 0px 1px 3px 1px rgba(60, 64, 67, 0.15);\n",
              "      fill: #174EA6;\n",
              "    }\n",
              "\n",
              "    [theme=dark] .colab-df-convert {\n",
              "      background-color: #3B4455;\n",
              "      fill: #D2E3FC;\n",
              "    }\n",
              "\n",
              "    [theme=dark] .colab-df-convert:hover {\n",
              "      background-color: #434B5C;\n",
              "      box-shadow: 0px 1px 3px 1px rgba(0, 0, 0, 0.15);\n",
              "      filter: drop-shadow(0px 1px 2px rgba(0, 0, 0, 0.3));\n",
              "      fill: #FFFFFF;\n",
              "    }\n",
              "  </style>\n",
              "\n",
              "      <script>\n",
              "        const buttonEl =\n",
              "          document.querySelector('#df-653f898c-5e08-4878-8f61-c48afcd6a509 button.colab-df-convert');\n",
              "        buttonEl.style.display =\n",
              "          google.colab.kernel.accessAllowed ? 'block' : 'none';\n",
              "\n",
              "        async function convertToInteractive(key) {\n",
              "          const element = document.querySelector('#df-653f898c-5e08-4878-8f61-c48afcd6a509');\n",
              "          const dataTable =\n",
              "            await google.colab.kernel.invokeFunction('convertToInteractive',\n",
              "                                                     [key], {});\n",
              "          if (!dataTable) return;\n",
              "\n",
              "          const docLinkHtml = 'Like what you see? Visit the ' +\n",
              "            '<a target=\"_blank\" href=https://colab.research.google.com/notebooks/data_table.ipynb>data table notebook</a>'\n",
              "            + ' to learn more about interactive tables.';\n",
              "          element.innerHTML = '';\n",
              "          dataTable['output_type'] = 'display_data';\n",
              "          await google.colab.output.renderOutput(dataTable, element);\n",
              "          const docLink = document.createElement('div');\n",
              "          docLink.innerHTML = docLinkHtml;\n",
              "          element.appendChild(docLink);\n",
              "        }\n",
              "      </script>\n",
              "    </div>\n",
              "  </div>\n",
              "  "
            ]
          },
          "metadata": {},
          "execution_count": 47
        }
      ],
      "source": [
        "preds = pd.DataFrame(all_user_predicted_ratings, columns = Ratings.columns)\n",
        "preds.head()"
      ]
    },
    {
      "cell_type": "markdown",
      "metadata": {
        "id": "-C_efvG7tKcC"
      },
      "source": [
        "function to return the movies with the highest predicted rating that the specified user hasn't already rated. Though we didn't use any explicit movie content features (such as genre or title), we will merge in that information to get a more complete picture of the recommendations."
      ]
    },
    {
      "cell_type": "code",
      "execution_count": 48,
      "metadata": {
        "id": "5u6VYUz0tKcC"
      },
      "outputs": [],
      "source": [
        "def recommend_movies(predictions, userID, movies, original_ratings, num_recommendations):\n",
        "    \"\"\"\n",
        "    Implementation of SVD \n",
        "    :param predictions : The SVD reconstructed matrix, \n",
        "    userID : UserId for which you want to predict the top rated movies, \n",
        "    movies : Matrix with movie data, original_ratings : Original Rating matrix, \n",
        "    num_recommendations : num of recos to be returned\n",
        "    :return: num_recommendations top movies\n",
        "    \"\"\" \n",
        "    # Get and sort the user's predictions\n",
        "    user_row_number = userID - 1 # User ID starts at 1, not 0\n",
        "    sorted_user_predictions = predictions.iloc[user_row_number].sort_values(ascending=False) # User ID starts at 1\n",
        "    \n",
        "    # Get the user's data and merge in the movie information.\n",
        "    user_data = original_ratings[original_ratings.userId == (userID)]\n",
        "    user_full = (user_data.merge(movies, how = 'left', left_on = 'movieId', right_on = 'movieId').\n",
        "                     sort_values(['rating'], ascending=False)\n",
        "                 )\n",
        "\n",
        "    print('User {0} has already rated {1} movies.'.format(userID, user_full.shape[0]))\n",
        "    print('Recommending highest {0} predicted ratings movies not already rated.'.format(num_recommendations))\n",
        "    \n",
        "    # Recommend the highest predicted rating movies that the user hasn't seen yet.\n",
        "    recommendations = (movies[~movies['movieId'].isin(user_full['movieId'])].\n",
        "         merge(pd.DataFrame(sorted_user_predictions).reset_index(), how = 'left',\n",
        "               left_on = 'movieId',\n",
        "               right_on = 'movieId').\n",
        "         rename(columns = {user_row_number: 'Predictions'}).\n",
        "         sort_values('Predictions', ascending = False).\n",
        "                       iloc[:num_recommendations, :-1]\n",
        "                      )\n",
        "\n",
        "    return user_full, recommendations"
      ]
    },
    {
      "cell_type": "markdown",
      "metadata": {
        "id": "TfjbJI6TtKcD"
      },
      "source": [
        "Let's try to recommend 20 movies for user with ID 150."
      ]
    },
    {
      "cell_type": "code",
      "execution_count": 49,
      "metadata": {
        "scrolled": true,
        "colab": {
          "base_uri": "https://localhost:8080/"
        },
        "id": "XK-G7cxAtKcD",
        "outputId": "af4a07a1-b0f7-40d8-a112-0f59cd524ee8"
      },
      "outputs": [
        {
          "output_type": "stream",
          "name": "stdout",
          "text": [
            "User 180 has already rated 24 movies.\n",
            "Recommending highest 20 predicted ratings movies not already rated.\n"
          ]
        }
      ],
      "source": [
        "already_rated, predictions = recommend_movies(preds, 180, movies, ratings, 20)"
      ]
    },
    {
      "cell_type": "code",
      "execution_count": 50,
      "metadata": {
        "scrolled": true,
        "colab": {
          "base_uri": "https://localhost:8080/",
          "height": 677
        },
        "id": "oqSJL2-ftKcD",
        "outputId": "231902a2-9674-4c51-c4a7-c25bab4cd37e"
      },
      "outputs": [
        {
          "output_type": "execute_result",
          "data": {
            "text/plain": [
              "    userId  movieId  rating   timestamp  \\\n",
              "0      180      260     4.5  1270237876   \n",
              "7      180     1213     4.5  1270237889   \n",
              "19     180     2959     4.5  1270237884   \n",
              "23     180     4993     4.5  1270237909   \n",
              "4      180     1196     4.0  1270237862   \n",
              "5      180     1197     4.0  1270237872   \n",
              "6      180     1198     4.0  1270237900   \n",
              "3      180     1136     4.0  1270237867   \n",
              "21     180     3552     4.0  1270237587   \n",
              "9      180     1261     4.0  1270237636   \n",
              "18     180     2761     4.0  1270237599   \n",
              "16     180     2717     4.0  1270237614   \n",
              "15     180     2641     3.5  1270237580   \n",
              "14     180     2571     3.5  1270237896   \n",
              "11     180     1748     3.5  1270237523   \n",
              "8      180     1242     3.5  1270237513   \n",
              "12     180     2021     3.5  1270237560   \n",
              "1      180      315     3.0  1270237506   \n",
              "17     180     2723     3.0  1270237583   \n",
              "20     180     3210     3.0  1270237621   \n",
              "\n",
              "                                                title  \\\n",
              "0           Star Wars: Episode IV - A New Hope (1977)   \n",
              "7                                   Goodfellas (1990)   \n",
              "19                                  Fight Club (1999)   \n",
              "23  Lord of the Rings: The Fellowship of the Ring,...   \n",
              "4   Star Wars: Episode V - The Empire Strikes Back...   \n",
              "5                          Princess Bride, The (1987)   \n",
              "6   Raiders of the Lost Ark (Indiana Jones and the...   \n",
              "3              Monty Python and the Holy Grail (1975)   \n",
              "21                                  Caddyshack (1980)   \n",
              "9                  Evil Dead II (Dead by Dawn) (1987)   \n",
              "18                             Iron Giant, The (1999)   \n",
              "16                             Ghostbusters II (1989)   \n",
              "15                                 Superman II (1980)   \n",
              "14                                 Matrix, The (1999)   \n",
              "11                                   Dark City (1998)   \n",
              "8                                        Glory (1989)   \n",
              "12                                        Dune (1984)   \n",
              "1                              Specialist, The (1994)   \n",
              "17                                 Mystery Men (1999)   \n",
              "20                Fast Times at Ridgemont High (1982)   \n",
              "\n",
              "                                       genres  \n",
              "0                     Action|Adventure|Sci-Fi  \n",
              "7                                 Crime|Drama  \n",
              "19                Action|Crime|Drama|Thriller  \n",
              "23                          Adventure|Fantasy  \n",
              "4                     Action|Adventure|Sci-Fi  \n",
              "5     Action|Adventure|Comedy|Fantasy|Romance  \n",
              "6                            Action|Adventure  \n",
              "3                    Adventure|Comedy|Fantasy  \n",
              "21                                     Comedy  \n",
              "9                Action|Comedy|Fantasy|Horror  \n",
              "18  Adventure|Animation|Children|Drama|Sci-Fi  \n",
              "16                      Comedy|Fantasy|Sci-Fi  \n",
              "15                              Action|Sci-Fi  \n",
              "14                     Action|Sci-Fi|Thriller  \n",
              "11        Adventure|Film-Noir|Sci-Fi|Thriller  \n",
              "8                                   Drama|War  \n",
              "12                           Adventure|Sci-Fi  \n",
              "1                       Action|Drama|Thriller  \n",
              "17                      Action|Comedy|Fantasy  \n",
              "20                       Comedy|Drama|Romance  "
            ],
            "text/html": [
              "\n",
              "  <div id=\"df-30860c34-eb6f-4008-a647-964d9d421fd1\">\n",
              "    <div class=\"colab-df-container\">\n",
              "      <div>\n",
              "<style scoped>\n",
              "    .dataframe tbody tr th:only-of-type {\n",
              "        vertical-align: middle;\n",
              "    }\n",
              "\n",
              "    .dataframe tbody tr th {\n",
              "        vertical-align: top;\n",
              "    }\n",
              "\n",
              "    .dataframe thead th {\n",
              "        text-align: right;\n",
              "    }\n",
              "</style>\n",
              "<table border=\"1\" class=\"dataframe\">\n",
              "  <thead>\n",
              "    <tr style=\"text-align: right;\">\n",
              "      <th></th>\n",
              "      <th>userId</th>\n",
              "      <th>movieId</th>\n",
              "      <th>rating</th>\n",
              "      <th>timestamp</th>\n",
              "      <th>title</th>\n",
              "      <th>genres</th>\n",
              "    </tr>\n",
              "  </thead>\n",
              "  <tbody>\n",
              "    <tr>\n",
              "      <th>0</th>\n",
              "      <td>180</td>\n",
              "      <td>260</td>\n",
              "      <td>4.5</td>\n",
              "      <td>1270237876</td>\n",
              "      <td>Star Wars: Episode IV - A New Hope (1977)</td>\n",
              "      <td>Action|Adventure|Sci-Fi</td>\n",
              "    </tr>\n",
              "    <tr>\n",
              "      <th>7</th>\n",
              "      <td>180</td>\n",
              "      <td>1213</td>\n",
              "      <td>4.5</td>\n",
              "      <td>1270237889</td>\n",
              "      <td>Goodfellas (1990)</td>\n",
              "      <td>Crime|Drama</td>\n",
              "    </tr>\n",
              "    <tr>\n",
              "      <th>19</th>\n",
              "      <td>180</td>\n",
              "      <td>2959</td>\n",
              "      <td>4.5</td>\n",
              "      <td>1270237884</td>\n",
              "      <td>Fight Club (1999)</td>\n",
              "      <td>Action|Crime|Drama|Thriller</td>\n",
              "    </tr>\n",
              "    <tr>\n",
              "      <th>23</th>\n",
              "      <td>180</td>\n",
              "      <td>4993</td>\n",
              "      <td>4.5</td>\n",
              "      <td>1270237909</td>\n",
              "      <td>Lord of the Rings: The Fellowship of the Ring,...</td>\n",
              "      <td>Adventure|Fantasy</td>\n",
              "    </tr>\n",
              "    <tr>\n",
              "      <th>4</th>\n",
              "      <td>180</td>\n",
              "      <td>1196</td>\n",
              "      <td>4.0</td>\n",
              "      <td>1270237862</td>\n",
              "      <td>Star Wars: Episode V - The Empire Strikes Back...</td>\n",
              "      <td>Action|Adventure|Sci-Fi</td>\n",
              "    </tr>\n",
              "    <tr>\n",
              "      <th>5</th>\n",
              "      <td>180</td>\n",
              "      <td>1197</td>\n",
              "      <td>4.0</td>\n",
              "      <td>1270237872</td>\n",
              "      <td>Princess Bride, The (1987)</td>\n",
              "      <td>Action|Adventure|Comedy|Fantasy|Romance</td>\n",
              "    </tr>\n",
              "    <tr>\n",
              "      <th>6</th>\n",
              "      <td>180</td>\n",
              "      <td>1198</td>\n",
              "      <td>4.0</td>\n",
              "      <td>1270237900</td>\n",
              "      <td>Raiders of the Lost Ark (Indiana Jones and the...</td>\n",
              "      <td>Action|Adventure</td>\n",
              "    </tr>\n",
              "    <tr>\n",
              "      <th>3</th>\n",
              "      <td>180</td>\n",
              "      <td>1136</td>\n",
              "      <td>4.0</td>\n",
              "      <td>1270237867</td>\n",
              "      <td>Monty Python and the Holy Grail (1975)</td>\n",
              "      <td>Adventure|Comedy|Fantasy</td>\n",
              "    </tr>\n",
              "    <tr>\n",
              "      <th>21</th>\n",
              "      <td>180</td>\n",
              "      <td>3552</td>\n",
              "      <td>4.0</td>\n",
              "      <td>1270237587</td>\n",
              "      <td>Caddyshack (1980)</td>\n",
              "      <td>Comedy</td>\n",
              "    </tr>\n",
              "    <tr>\n",
              "      <th>9</th>\n",
              "      <td>180</td>\n",
              "      <td>1261</td>\n",
              "      <td>4.0</td>\n",
              "      <td>1270237636</td>\n",
              "      <td>Evil Dead II (Dead by Dawn) (1987)</td>\n",
              "      <td>Action|Comedy|Fantasy|Horror</td>\n",
              "    </tr>\n",
              "    <tr>\n",
              "      <th>18</th>\n",
              "      <td>180</td>\n",
              "      <td>2761</td>\n",
              "      <td>4.0</td>\n",
              "      <td>1270237599</td>\n",
              "      <td>Iron Giant, The (1999)</td>\n",
              "      <td>Adventure|Animation|Children|Drama|Sci-Fi</td>\n",
              "    </tr>\n",
              "    <tr>\n",
              "      <th>16</th>\n",
              "      <td>180</td>\n",
              "      <td>2717</td>\n",
              "      <td>4.0</td>\n",
              "      <td>1270237614</td>\n",
              "      <td>Ghostbusters II (1989)</td>\n",
              "      <td>Comedy|Fantasy|Sci-Fi</td>\n",
              "    </tr>\n",
              "    <tr>\n",
              "      <th>15</th>\n",
              "      <td>180</td>\n",
              "      <td>2641</td>\n",
              "      <td>3.5</td>\n",
              "      <td>1270237580</td>\n",
              "      <td>Superman II (1980)</td>\n",
              "      <td>Action|Sci-Fi</td>\n",
              "    </tr>\n",
              "    <tr>\n",
              "      <th>14</th>\n",
              "      <td>180</td>\n",
              "      <td>2571</td>\n",
              "      <td>3.5</td>\n",
              "      <td>1270237896</td>\n",
              "      <td>Matrix, The (1999)</td>\n",
              "      <td>Action|Sci-Fi|Thriller</td>\n",
              "    </tr>\n",
              "    <tr>\n",
              "      <th>11</th>\n",
              "      <td>180</td>\n",
              "      <td>1748</td>\n",
              "      <td>3.5</td>\n",
              "      <td>1270237523</td>\n",
              "      <td>Dark City (1998)</td>\n",
              "      <td>Adventure|Film-Noir|Sci-Fi|Thriller</td>\n",
              "    </tr>\n",
              "    <tr>\n",
              "      <th>8</th>\n",
              "      <td>180</td>\n",
              "      <td>1242</td>\n",
              "      <td>3.5</td>\n",
              "      <td>1270237513</td>\n",
              "      <td>Glory (1989)</td>\n",
              "      <td>Drama|War</td>\n",
              "    </tr>\n",
              "    <tr>\n",
              "      <th>12</th>\n",
              "      <td>180</td>\n",
              "      <td>2021</td>\n",
              "      <td>3.5</td>\n",
              "      <td>1270237560</td>\n",
              "      <td>Dune (1984)</td>\n",
              "      <td>Adventure|Sci-Fi</td>\n",
              "    </tr>\n",
              "    <tr>\n",
              "      <th>1</th>\n",
              "      <td>180</td>\n",
              "      <td>315</td>\n",
              "      <td>3.0</td>\n",
              "      <td>1270237506</td>\n",
              "      <td>Specialist, The (1994)</td>\n",
              "      <td>Action|Drama|Thriller</td>\n",
              "    </tr>\n",
              "    <tr>\n",
              "      <th>17</th>\n",
              "      <td>180</td>\n",
              "      <td>2723</td>\n",
              "      <td>3.0</td>\n",
              "      <td>1270237583</td>\n",
              "      <td>Mystery Men (1999)</td>\n",
              "      <td>Action|Comedy|Fantasy</td>\n",
              "    </tr>\n",
              "    <tr>\n",
              "      <th>20</th>\n",
              "      <td>180</td>\n",
              "      <td>3210</td>\n",
              "      <td>3.0</td>\n",
              "      <td>1270237621</td>\n",
              "      <td>Fast Times at Ridgemont High (1982)</td>\n",
              "      <td>Comedy|Drama|Romance</td>\n",
              "    </tr>\n",
              "  </tbody>\n",
              "</table>\n",
              "</div>\n",
              "      <button class=\"colab-df-convert\" onclick=\"convertToInteractive('df-30860c34-eb6f-4008-a647-964d9d421fd1')\"\n",
              "              title=\"Convert this dataframe to an interactive table.\"\n",
              "              style=\"display:none;\">\n",
              "        \n",
              "  <svg xmlns=\"http://www.w3.org/2000/svg\" height=\"24px\"viewBox=\"0 0 24 24\"\n",
              "       width=\"24px\">\n",
              "    <path d=\"M0 0h24v24H0V0z\" fill=\"none\"/>\n",
              "    <path d=\"M18.56 5.44l.94 2.06.94-2.06 2.06-.94-2.06-.94-.94-2.06-.94 2.06-2.06.94zm-11 1L8.5 8.5l.94-2.06 2.06-.94-2.06-.94L8.5 2.5l-.94 2.06-2.06.94zm10 10l.94 2.06.94-2.06 2.06-.94-2.06-.94-.94-2.06-.94 2.06-2.06.94z\"/><path d=\"M17.41 7.96l-1.37-1.37c-.4-.4-.92-.59-1.43-.59-.52 0-1.04.2-1.43.59L10.3 9.45l-7.72 7.72c-.78.78-.78 2.05 0 2.83L4 21.41c.39.39.9.59 1.41.59.51 0 1.02-.2 1.41-.59l7.78-7.78 2.81-2.81c.8-.78.8-2.07 0-2.86zM5.41 20L4 18.59l7.72-7.72 1.47 1.35L5.41 20z\"/>\n",
              "  </svg>\n",
              "      </button>\n",
              "      \n",
              "  <style>\n",
              "    .colab-df-container {\n",
              "      display:flex;\n",
              "      flex-wrap:wrap;\n",
              "      gap: 12px;\n",
              "    }\n",
              "\n",
              "    .colab-df-convert {\n",
              "      background-color: #E8F0FE;\n",
              "      border: none;\n",
              "      border-radius: 50%;\n",
              "      cursor: pointer;\n",
              "      display: none;\n",
              "      fill: #1967D2;\n",
              "      height: 32px;\n",
              "      padding: 0 0 0 0;\n",
              "      width: 32px;\n",
              "    }\n",
              "\n",
              "    .colab-df-convert:hover {\n",
              "      background-color: #E2EBFA;\n",
              "      box-shadow: 0px 1px 2px rgba(60, 64, 67, 0.3), 0px 1px 3px 1px rgba(60, 64, 67, 0.15);\n",
              "      fill: #174EA6;\n",
              "    }\n",
              "\n",
              "    [theme=dark] .colab-df-convert {\n",
              "      background-color: #3B4455;\n",
              "      fill: #D2E3FC;\n",
              "    }\n",
              "\n",
              "    [theme=dark] .colab-df-convert:hover {\n",
              "      background-color: #434B5C;\n",
              "      box-shadow: 0px 1px 3px 1px rgba(0, 0, 0, 0.15);\n",
              "      filter: drop-shadow(0px 1px 2px rgba(0, 0, 0, 0.3));\n",
              "      fill: #FFFFFF;\n",
              "    }\n",
              "  </style>\n",
              "\n",
              "      <script>\n",
              "        const buttonEl =\n",
              "          document.querySelector('#df-30860c34-eb6f-4008-a647-964d9d421fd1 button.colab-df-convert');\n",
              "        buttonEl.style.display =\n",
              "          google.colab.kernel.accessAllowed ? 'block' : 'none';\n",
              "\n",
              "        async function convertToInteractive(key) {\n",
              "          const element = document.querySelector('#df-30860c34-eb6f-4008-a647-964d9d421fd1');\n",
              "          const dataTable =\n",
              "            await google.colab.kernel.invokeFunction('convertToInteractive',\n",
              "                                                     [key], {});\n",
              "          if (!dataTable) return;\n",
              "\n",
              "          const docLinkHtml = 'Like what you see? Visit the ' +\n",
              "            '<a target=\"_blank\" href=https://colab.research.google.com/notebooks/data_table.ipynb>data table notebook</a>'\n",
              "            + ' to learn more about interactive tables.';\n",
              "          element.innerHTML = '';\n",
              "          dataTable['output_type'] = 'display_data';\n",
              "          await google.colab.output.renderOutput(dataTable, element);\n",
              "          const docLink = document.createElement('div');\n",
              "          docLink.innerHTML = docLinkHtml;\n",
              "          element.appendChild(docLink);\n",
              "        }\n",
              "      </script>\n",
              "    </div>\n",
              "  </div>\n",
              "  "
            ]
          },
          "metadata": {},
          "execution_count": 50
        }
      ],
      "source": [
        "# Top 20 movies that User 1310 has rated \n",
        "already_rated.head(20)"
      ]
    },
    {
      "cell_type": "code",
      "execution_count": null,
      "metadata": {
        "scrolled": true,
        "colab": {
          "base_uri": "https://localhost:8080/",
          "height": 665
        },
        "id": "6NvWL2eBtKcE",
        "outputId": "38ba145e-7ce0-4c03-b43d-27ece4746f04"
      },
      "outputs": [
        {
          "output_type": "execute_result",
          "data": {
            "text/plain": [
              "      movieId                                              title  \\\n",
              "904      1210  Star Wars: Episode VI - Return of the Jedi (1983)   \n",
              "4776     7153  Lord of the Rings: The Return of the King, The...   \n",
              "4113     5952      Lord of the Rings: The Two Towers, The (2002)   \n",
              "275       318                   Shawshank Redemption, The (1994)   \n",
              "980      1291          Indiana Jones and the Last Crusade (1989)   \n",
              "256       296                                Pulp Fiction (1994)   \n",
              "46         50                         Usual Suspects, The (1995)   \n",
              "656       858                              Godfather, The (1972)   \n",
              "6686    58559                            Dark Knight, The (2008)   \n",
              "895      1200                                      Aliens (1986)   \n",
              "2652     3578                                   Gladiator (2000)   \n",
              "508       593                   Silence of the Lambs, The (1991)   \n",
              "1490     2028                         Saving Private Ryan (1998)   \n",
              "7348    79132                                   Inception (2010)   \n",
              "472       541                                Blade Runner (1982)   \n",
              "825      1089                              Reservoir Dogs (1992)   \n",
              "518       608                                       Fargo (1996)   \n",
              "812      1073         Willy Wonka & the Chocolate Factory (1971)   \n",
              "790      1036                                    Die Hard (1988)   \n",
              "2078     2791                                   Airplane! (1980)   \n",
              "\n",
              "                                               genres  \n",
              "904                           Action|Adventure|Sci-Fi  \n",
              "4776                   Action|Adventure|Drama|Fantasy  \n",
              "4113                                Adventure|Fantasy  \n",
              "275                                       Crime|Drama  \n",
              "980                                  Action|Adventure  \n",
              "256                       Comedy|Crime|Drama|Thriller  \n",
              "46                             Crime|Mystery|Thriller  \n",
              "656                                       Crime|Drama  \n",
              "6686                          Action|Crime|Drama|IMAX  \n",
              "895                    Action|Adventure|Horror|Sci-Fi  \n",
              "2652                           Action|Adventure|Drama  \n",
              "508                             Crime|Horror|Thriller  \n",
              "1490                                 Action|Drama|War  \n",
              "7348  Action|Crime|Drama|Mystery|Sci-Fi|Thriller|IMAX  \n",
              "472                            Action|Sci-Fi|Thriller  \n",
              "825                            Crime|Mystery|Thriller  \n",
              "518                       Comedy|Crime|Drama|Thriller  \n",
              "812                   Children|Comedy|Fantasy|Musical  \n",
              "790                             Action|Crime|Thriller  \n",
              "2078                                           Comedy  "
            ],
            "text/html": [
              "\n",
              "  <div id=\"df-a9adae87-d0a2-4df7-9ea6-777eda42c5b2\">\n",
              "    <div class=\"colab-df-container\">\n",
              "      <div>\n",
              "<style scoped>\n",
              "    .dataframe tbody tr th:only-of-type {\n",
              "        vertical-align: middle;\n",
              "    }\n",
              "\n",
              "    .dataframe tbody tr th {\n",
              "        vertical-align: top;\n",
              "    }\n",
              "\n",
              "    .dataframe thead th {\n",
              "        text-align: right;\n",
              "    }\n",
              "</style>\n",
              "<table border=\"1\" class=\"dataframe\">\n",
              "  <thead>\n",
              "    <tr style=\"text-align: right;\">\n",
              "      <th></th>\n",
              "      <th>movieId</th>\n",
              "      <th>title</th>\n",
              "      <th>genres</th>\n",
              "    </tr>\n",
              "  </thead>\n",
              "  <tbody>\n",
              "    <tr>\n",
              "      <th>904</th>\n",
              "      <td>1210</td>\n",
              "      <td>Star Wars: Episode VI - Return of the Jedi (1983)</td>\n",
              "      <td>Action|Adventure|Sci-Fi</td>\n",
              "    </tr>\n",
              "    <tr>\n",
              "      <th>4776</th>\n",
              "      <td>7153</td>\n",
              "      <td>Lord of the Rings: The Return of the King, The...</td>\n",
              "      <td>Action|Adventure|Drama|Fantasy</td>\n",
              "    </tr>\n",
              "    <tr>\n",
              "      <th>4113</th>\n",
              "      <td>5952</td>\n",
              "      <td>Lord of the Rings: The Two Towers, The (2002)</td>\n",
              "      <td>Adventure|Fantasy</td>\n",
              "    </tr>\n",
              "    <tr>\n",
              "      <th>275</th>\n",
              "      <td>318</td>\n",
              "      <td>Shawshank Redemption, The (1994)</td>\n",
              "      <td>Crime|Drama</td>\n",
              "    </tr>\n",
              "    <tr>\n",
              "      <th>980</th>\n",
              "      <td>1291</td>\n",
              "      <td>Indiana Jones and the Last Crusade (1989)</td>\n",
              "      <td>Action|Adventure</td>\n",
              "    </tr>\n",
              "    <tr>\n",
              "      <th>256</th>\n",
              "      <td>296</td>\n",
              "      <td>Pulp Fiction (1994)</td>\n",
              "      <td>Comedy|Crime|Drama|Thriller</td>\n",
              "    </tr>\n",
              "    <tr>\n",
              "      <th>46</th>\n",
              "      <td>50</td>\n",
              "      <td>Usual Suspects, The (1995)</td>\n",
              "      <td>Crime|Mystery|Thriller</td>\n",
              "    </tr>\n",
              "    <tr>\n",
              "      <th>656</th>\n",
              "      <td>858</td>\n",
              "      <td>Godfather, The (1972)</td>\n",
              "      <td>Crime|Drama</td>\n",
              "    </tr>\n",
              "    <tr>\n",
              "      <th>6686</th>\n",
              "      <td>58559</td>\n",
              "      <td>Dark Knight, The (2008)</td>\n",
              "      <td>Action|Crime|Drama|IMAX</td>\n",
              "    </tr>\n",
              "    <tr>\n",
              "      <th>895</th>\n",
              "      <td>1200</td>\n",
              "      <td>Aliens (1986)</td>\n",
              "      <td>Action|Adventure|Horror|Sci-Fi</td>\n",
              "    </tr>\n",
              "    <tr>\n",
              "      <th>2652</th>\n",
              "      <td>3578</td>\n",
              "      <td>Gladiator (2000)</td>\n",
              "      <td>Action|Adventure|Drama</td>\n",
              "    </tr>\n",
              "    <tr>\n",
              "      <th>508</th>\n",
              "      <td>593</td>\n",
              "      <td>Silence of the Lambs, The (1991)</td>\n",
              "      <td>Crime|Horror|Thriller</td>\n",
              "    </tr>\n",
              "    <tr>\n",
              "      <th>1490</th>\n",
              "      <td>2028</td>\n",
              "      <td>Saving Private Ryan (1998)</td>\n",
              "      <td>Action|Drama|War</td>\n",
              "    </tr>\n",
              "    <tr>\n",
              "      <th>7348</th>\n",
              "      <td>79132</td>\n",
              "      <td>Inception (2010)</td>\n",
              "      <td>Action|Crime|Drama|Mystery|Sci-Fi|Thriller|IMAX</td>\n",
              "    </tr>\n",
              "    <tr>\n",
              "      <th>472</th>\n",
              "      <td>541</td>\n",
              "      <td>Blade Runner (1982)</td>\n",
              "      <td>Action|Sci-Fi|Thriller</td>\n",
              "    </tr>\n",
              "    <tr>\n",
              "      <th>825</th>\n",
              "      <td>1089</td>\n",
              "      <td>Reservoir Dogs (1992)</td>\n",
              "      <td>Crime|Mystery|Thriller</td>\n",
              "    </tr>\n",
              "    <tr>\n",
              "      <th>518</th>\n",
              "      <td>608</td>\n",
              "      <td>Fargo (1996)</td>\n",
              "      <td>Comedy|Crime|Drama|Thriller</td>\n",
              "    </tr>\n",
              "    <tr>\n",
              "      <th>812</th>\n",
              "      <td>1073</td>\n",
              "      <td>Willy Wonka &amp; the Chocolate Factory (1971)</td>\n",
              "      <td>Children|Comedy|Fantasy|Musical</td>\n",
              "    </tr>\n",
              "    <tr>\n",
              "      <th>790</th>\n",
              "      <td>1036</td>\n",
              "      <td>Die Hard (1988)</td>\n",
              "      <td>Action|Crime|Thriller</td>\n",
              "    </tr>\n",
              "    <tr>\n",
              "      <th>2078</th>\n",
              "      <td>2791</td>\n",
              "      <td>Airplane! (1980)</td>\n",
              "      <td>Comedy</td>\n",
              "    </tr>\n",
              "  </tbody>\n",
              "</table>\n",
              "</div>\n",
              "      <button class=\"colab-df-convert\" onclick=\"convertToInteractive('df-a9adae87-d0a2-4df7-9ea6-777eda42c5b2')\"\n",
              "              title=\"Convert this dataframe to an interactive table.\"\n",
              "              style=\"display:none;\">\n",
              "        \n",
              "  <svg xmlns=\"http://www.w3.org/2000/svg\" height=\"24px\"viewBox=\"0 0 24 24\"\n",
              "       width=\"24px\">\n",
              "    <path d=\"M0 0h24v24H0V0z\" fill=\"none\"/>\n",
              "    <path d=\"M18.56 5.44l.94 2.06.94-2.06 2.06-.94-2.06-.94-.94-2.06-.94 2.06-2.06.94zm-11 1L8.5 8.5l.94-2.06 2.06-.94-2.06-.94L8.5 2.5l-.94 2.06-2.06.94zm10 10l.94 2.06.94-2.06 2.06-.94-2.06-.94-.94-2.06-.94 2.06-2.06.94z\"/><path d=\"M17.41 7.96l-1.37-1.37c-.4-.4-.92-.59-1.43-.59-.52 0-1.04.2-1.43.59L10.3 9.45l-7.72 7.72c-.78.78-.78 2.05 0 2.83L4 21.41c.39.39.9.59 1.41.59.51 0 1.02-.2 1.41-.59l7.78-7.78 2.81-2.81c.8-.78.8-2.07 0-2.86zM5.41 20L4 18.59l7.72-7.72 1.47 1.35L5.41 20z\"/>\n",
              "  </svg>\n",
              "      </button>\n",
              "      \n",
              "  <style>\n",
              "    .colab-df-container {\n",
              "      display:flex;\n",
              "      flex-wrap:wrap;\n",
              "      gap: 12px;\n",
              "    }\n",
              "\n",
              "    .colab-df-convert {\n",
              "      background-color: #E8F0FE;\n",
              "      border: none;\n",
              "      border-radius: 50%;\n",
              "      cursor: pointer;\n",
              "      display: none;\n",
              "      fill: #1967D2;\n",
              "      height: 32px;\n",
              "      padding: 0 0 0 0;\n",
              "      width: 32px;\n",
              "    }\n",
              "\n",
              "    .colab-df-convert:hover {\n",
              "      background-color: #E2EBFA;\n",
              "      box-shadow: 0px 1px 2px rgba(60, 64, 67, 0.3), 0px 1px 3px 1px rgba(60, 64, 67, 0.15);\n",
              "      fill: #174EA6;\n",
              "    }\n",
              "\n",
              "    [theme=dark] .colab-df-convert {\n",
              "      background-color: #3B4455;\n",
              "      fill: #D2E3FC;\n",
              "    }\n",
              "\n",
              "    [theme=dark] .colab-df-convert:hover {\n",
              "      background-color: #434B5C;\n",
              "      box-shadow: 0px 1px 3px 1px rgba(0, 0, 0, 0.15);\n",
              "      filter: drop-shadow(0px 1px 2px rgba(0, 0, 0, 0.3));\n",
              "      fill: #FFFFFF;\n",
              "    }\n",
              "  </style>\n",
              "\n",
              "      <script>\n",
              "        const buttonEl =\n",
              "          document.querySelector('#df-a9adae87-d0a2-4df7-9ea6-777eda42c5b2 button.colab-df-convert');\n",
              "        buttonEl.style.display =\n",
              "          google.colab.kernel.accessAllowed ? 'block' : 'none';\n",
              "\n",
              "        async function convertToInteractive(key) {\n",
              "          const element = document.querySelector('#df-a9adae87-d0a2-4df7-9ea6-777eda42c5b2');\n",
              "          const dataTable =\n",
              "            await google.colab.kernel.invokeFunction('convertToInteractive',\n",
              "                                                     [key], {});\n",
              "          if (!dataTable) return;\n",
              "\n",
              "          const docLinkHtml = 'Like what you see? Visit the ' +\n",
              "            '<a target=\"_blank\" href=https://colab.research.google.com/notebooks/data_table.ipynb>data table notebook</a>'\n",
              "            + ' to learn more about interactive tables.';\n",
              "          element.innerHTML = '';\n",
              "          dataTable['output_type'] = 'display_data';\n",
              "          await google.colab.output.renderOutput(dataTable, element);\n",
              "          const docLink = document.createElement('div');\n",
              "          docLink.innerHTML = docLinkHtml;\n",
              "          element.appendChild(docLink);\n",
              "        }\n",
              "      </script>\n",
              "    </div>\n",
              "  </div>\n",
              "  "
            ]
          },
          "metadata": {},
          "execution_count": 141
        }
      ],
      "source": [
        "# Top 20 movies that User 1310 hopefully will enjoy\n",
        "predictions"
      ]
    }
  ],
  "metadata": {
    "kernelspec": {
      "display_name": "Python 3",
      "language": "python",
      "name": "python3"
    },
    "language_info": {
      "codemirror_mode": {
        "name": "ipython",
        "version": 3
      },
      "file_extension": ".py",
      "mimetype": "text/x-python",
      "name": "python",
      "nbconvert_exporter": "python",
      "pygments_lexer": "ipython3",
      "version": "3.7.0"
    },
    "colab": {
      "provenance": [],
      "collapsed_sections": [
        "T81zPks9tKbq",
        "TeAhaPiktKbr",
        "ATm7zLYStKbs",
        "LIvWfQGHtKbw",
        "sK2ilUrptKb0",
        "SOq5tZdBtKb8",
        "hDHXb2zGtKb9",
        "Smu6EwShtKcA"
      ]
    }
  },
  "nbformat": 4,
  "nbformat_minor": 0
}