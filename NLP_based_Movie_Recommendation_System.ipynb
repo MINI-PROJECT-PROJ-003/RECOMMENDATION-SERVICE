{
  "nbformat": 4,
  "nbformat_minor": 0,
  "metadata": {
    "colab": {
      "provenance": []
    },
    "kernelspec": {
      "name": "python3",
      "display_name": "Python 3"
    },
    "language_info": {
      "name": "python"
    }
  },
  "cells": [
    {
      "cell_type": "code",
      "execution_count": 1,
      "metadata": {
        "id": "HpZ1xkCm_Aqq"
      },
      "outputs": [],
      "source": [
        "#import tensorflow and hub\n",
        "import tensorflow as tf\n",
        "import tensorflow_hub as hub\n",
        "\n",
        "#plotting\n",
        "import matplotlib.pyplot as plt\n",
        "\n",
        "#some important packages\n",
        "import os\n",
        "import re\n",
        "import numpy as np\n",
        "import pandas as pd\n",
        "\n",
        "#scikit-Learn\n",
        "from sklearn.metrics.pairwise import cosine_similarity\n",
        "from sklearn.neighbors import NearestNeighbors\n",
        "from sklearn.decomposition import PCA\n"
      ]
    },
    {
      "cell_type": "code",
      "source": [
        "model_url=\"https://tfhub.dev/google/universal-sentence-encoder/4\""
      ],
      "metadata": {
        "id": "7NjLctFfA1mM"
      },
      "execution_count": 2,
      "outputs": []
    },
    {
      "cell_type": "code",
      "source": [
        "model=hub.load(model_url)\n",
        "print('Model Loaded')"
      ],
      "metadata": {
        "colab": {
          "base_uri": "https://localhost:8080/"
        },
        "id": "SgfiFOgBBSv4",
        "outputId": "e7ba276b-12ad-4e8c-f902-ce594282c9d8"
      },
      "execution_count": 4,
      "outputs": [
        {
          "output_type": "stream",
          "name": "stdout",
          "text": [
            "Model Loaded\n"
          ]
        }
      ]
    },
    {
      "cell_type": "code",
      "source": [
        "def embed(texts):\n",
        "  return model(texts)"
      ],
      "metadata": {
        "id": "kia1JqWoBoIw"
      },
      "execution_count": 5,
      "outputs": []
    },
    {
      "cell_type": "code",
      "source": [
        "embed(['This movie was great!'])"
      ],
      "metadata": {
        "colab": {
          "base_uri": "https://localhost:8080/"
        },
        "id": "-aPnkIzmB-YX",
        "outputId": "d03234ad-0a09-49ce-8813-41c2306f1fc2"
      },
      "execution_count": 6,
      "outputs": [
        {
          "output_type": "execute_result",
          "data": {
            "text/plain": [
              "<tf.Tensor: shape=(1, 512), dtype=float32, numpy=\n",
              "array([[ 0.00549279,  0.02886906, -0.02628897,  0.04502158, -0.01233335,\n",
              "         0.02568329, -0.00071882, -0.05447304,  0.04221928, -0.0191371 ,\n",
              "         0.02710011, -0.04328045, -0.02486858,  0.0135952 ,  0.00482793,\n",
              "        -0.05379638,  0.01630707,  0.02139907,  0.02644024, -0.02320251,\n",
              "         0.06569218, -0.10137626, -0.01691998,  0.02492482,  0.02406815,\n",
              "        -0.03139618, -0.03265484, -0.05174927, -0.0727149 ,  0.10145196,\n",
              "         0.03868447,  0.04380691, -0.02071748, -0.01873296, -0.03071439,\n",
              "         0.01825575,  0.03627162,  0.01321464,  0.0094349 , -0.03006625,\n",
              "         0.06655685,  0.01529936, -0.10101432, -0.00671943, -0.01578641,\n",
              "         0.04991001,  0.02548564,  0.05454975, -0.01658573,  0.05624885,\n",
              "         0.038345  , -0.08679942, -0.06096426, -0.01161775,  0.01997448,\n",
              "         0.04206816, -0.04119828, -0.00768586, -0.05101158,  0.01210047,\n",
              "        -0.01673209, -0.01382073,  0.00373702,  0.04911597, -0.03481682,\n",
              "         0.05704321,  0.01964699,  0.01331994,  0.06399831, -0.06007639,\n",
              "         0.04977039,  0.05969533, -0.00512161,  0.00345538,  0.02347392,\n",
              "         0.01657879,  0.00882616, -0.05840246,  0.01081956,  0.09112442,\n",
              "        -0.04244037,  0.0237871 , -0.00078291,  0.02853673,  0.00093319,\n",
              "         0.04208673,  0.03671129, -0.04355022, -0.09307761, -0.00054823,\n",
              "        -0.01398351, -0.02585264,  0.00277773,  0.03043685,  0.10135812,\n",
              "         0.00514982,  0.00857201, -0.05206992,  0.09978893,  0.09052151,\n",
              "         0.00727677, -0.0080631 ,  0.01509869, -0.00024922,  0.00344272,\n",
              "        -0.01363511, -0.02850655, -0.02132623,  0.00644553,  0.00035647,\n",
              "         0.04428067,  0.04263918,  0.06019286, -0.01540298, -0.05650955,\n",
              "         0.06915257, -0.02070853, -0.05304862,  0.02065351,  0.02122759,\n",
              "        -0.01767537, -0.00901935, -0.02521258, -0.02947345, -0.00788983,\n",
              "        -0.08103787,  0.00427624, -0.10145584,  0.06386339,  0.09853414,\n",
              "        -0.00386895, -0.02636253,  0.03109704, -0.06319856,  0.02323465,\n",
              "        -0.08689979, -0.02764195, -0.03676214, -0.09642366, -0.00811525,\n",
              "         0.02796138, -0.04216219,  0.02821674,  0.07147539,  0.02029408,\n",
              "         0.05213046,  0.00547965,  0.01005902, -0.00968192,  0.00038215,\n",
              "         0.02508672,  0.0036778 , -0.08550171, -0.03470816,  0.0318283 ,\n",
              "         0.07189633,  0.07062658, -0.04086528,  0.06687138, -0.01880953,\n",
              "        -0.05949423,  0.02761279,  0.07921504,  0.07259229, -0.03060986,\n",
              "         0.02377021, -0.07497517, -0.0389321 ,  0.03242344,  0.00316035,\n",
              "         0.01624396,  0.06015555, -0.02738689, -0.0372602 , -0.02249825,\n",
              "         0.05164826, -0.04710847,  0.04515135,  0.01647224, -0.07968115,\n",
              "        -0.02482686,  0.07581182, -0.04040249, -0.02527559,  0.03866646,\n",
              "         0.02881845,  0.03863062,  0.03125424,  0.09795641,  0.05011384,\n",
              "        -0.04737546, -0.00737251,  0.01652108, -0.06835041,  0.01118035,\n",
              "        -0.04373859,  0.01260422, -0.00242771, -0.00058694, -0.02478766,\n",
              "         0.02563105, -0.05302643, -0.01710283,  0.00217774,  0.06206434,\n",
              "         0.00491735,  0.06120978,  0.01655252, -0.03342636, -0.00202416,\n",
              "        -0.07622245,  0.00806767, -0.08526599, -0.02341258,  0.08972816,\n",
              "        -0.02402737, -0.01625874, -0.04681421,  0.02810655, -0.03114544,\n",
              "         0.01489858, -0.05796926, -0.04334744,  0.04788567, -0.09521475,\n",
              "         0.05614291, -0.09003565, -0.00125589,  0.04825947, -0.01603317,\n",
              "         0.00241583, -0.00702672,  0.02820106,  0.09956265, -0.00557054,\n",
              "        -0.00392302,  0.07811753,  0.04828189,  0.0121674 ,  0.02649802,\n",
              "         0.0275279 ,  0.02974233,  0.07337301,  0.00549876,  0.02175412,\n",
              "         0.03527228, -0.0224583 , -0.03951047, -0.01718162, -0.00958715,\n",
              "         0.01648906,  0.02756682, -0.04291253,  0.01616792,  0.04632331,\n",
              "         0.03654641,  0.00651557, -0.03667973,  0.05807521, -0.01841667,\n",
              "        -0.00266965,  0.00346313, -0.02939765, -0.0150732 ,  0.01409325,\n",
              "        -0.0059119 ,  0.0383997 ,  0.04513567,  0.01936355,  0.02554665,\n",
              "         0.07666099,  0.10104096,  0.00929442,  0.0048254 ,  0.0202761 ,\n",
              "         0.00240536,  0.02083168, -0.03676214,  0.10099945,  0.03398843,\n",
              "         0.05451923,  0.01629779,  0.00153097,  0.04745298, -0.02842082,\n",
              "        -0.10145631, -0.035672  ,  0.0494891 ,  0.05039079, -0.03494554,\n",
              "        -0.005885  ,  0.09687837, -0.05840484,  0.01675771,  0.02724425,\n",
              "         0.02663238,  0.03828523,  0.03009387,  0.01220315,  0.06866229,\n",
              "         0.02131046, -0.0260197 , -0.02164594, -0.05966081,  0.02477535,\n",
              "        -0.03523963,  0.03393568,  0.00168257, -0.00818855,  0.06598676,\n",
              "        -0.01477992, -0.00547293,  0.0250523 ,  0.00648732,  0.02565607,\n",
              "         0.02956758, -0.03080943, -0.03890037, -0.03340892,  0.0014707 ,\n",
              "        -0.01925291,  0.03625212,  0.06860747, -0.04845807,  0.0110069 ,\n",
              "        -0.00560863,  0.0229566 , -0.00988501, -0.03040682,  0.01045822,\n",
              "         0.00439852,  0.0043543 , -0.01468388, -0.02332357, -0.09393281,\n",
              "        -0.04051306, -0.02504385, -0.02483055, -0.00718714,  0.02460037,\n",
              "         0.0977279 ,  0.04025534, -0.03151966,  0.00815453,  0.02152844,\n",
              "         0.02150856, -0.05112506, -0.10104638, -0.04361087, -0.0379595 ,\n",
              "        -0.01316943, -0.00344936, -0.04037199,  0.01797776, -0.01757184,\n",
              "        -0.04222957, -0.0975797 , -0.00327319,  0.03685584,  0.05532566,\n",
              "        -0.01406302, -0.04614406,  0.09916462,  0.03399034,  0.03972926,\n",
              "         0.01713766, -0.09407923,  0.04282649, -0.0111587 ,  0.020565  ,\n",
              "        -0.02484545,  0.02506446,  0.00555098, -0.00292714,  0.03787243,\n",
              "        -0.03494245,  0.06777945,  0.02706826,  0.03850488, -0.05578919,\n",
              "        -0.03302136,  0.00301088,  0.02818894,  0.07666627, -0.08516956,\n",
              "        -0.03537202, -0.06837834, -0.00548797, -0.01908865, -0.00284599,\n",
              "         0.0824784 , -0.01801234, -0.00120913,  0.02134807,  0.02816012,\n",
              "        -0.02182811, -0.07698049,  0.04191504, -0.01772331, -0.10040033,\n",
              "         0.00692177, -0.02796316, -0.0445582 , -0.06157222,  0.10145624,\n",
              "        -0.00963381,  0.10096458,  0.0047177 ,  0.06617888,  0.03885557,\n",
              "        -0.00787657,  0.0268558 , -0.03091918, -0.01056328,  0.10033691,\n",
              "        -0.03595695, -0.01495695,  0.05245739, -0.03973071,  0.04209256,\n",
              "         0.018536  ,  0.0231187 , -0.05690551, -0.03293652,  0.02865034,\n",
              "         0.06984378, -0.02771938,  0.05746059, -0.01802603,  0.10100625,\n",
              "         0.00823106, -0.00218664, -0.01977459, -0.02139798, -0.02073988,\n",
              "        -0.07589929, -0.02751526,  0.01627713, -0.0153914 , -0.06262937,\n",
              "         0.01311475, -0.09933811, -0.04334496, -0.08061336,  0.0091724 ,\n",
              "        -0.02972651, -0.0258902 , -0.06180015, -0.03558385,  0.01895512,\n",
              "        -0.01997392, -0.00617029,  0.07606238,  0.04640514,  0.02881571,\n",
              "        -0.04640506, -0.01369573, -0.06184129,  0.04200373,  0.00202797,\n",
              "        -0.02030321,  0.04844751,  0.01807224,  0.07844782, -0.03313062,\n",
              "         0.05824583,  0.00447842, -0.01961144, -0.00045633,  0.03107099,\n",
              "        -0.00321144,  0.01680857,  0.06138909,  0.00517969, -0.02396524,\n",
              "         0.02933806, -0.05025383, -0.04185723,  0.09955993,  0.06448301,\n",
              "         0.03606918, -0.03115356,  0.01786364,  0.01037989,  0.06728493,\n",
              "        -0.06519368,  0.0049594 ,  0.10143957, -0.01632897, -0.04359468,\n",
              "        -0.02721567, -0.01624425,  0.03745245, -0.02960903,  0.04793227,\n",
              "        -0.01649589, -0.00442804,  0.00562303, -0.01870941, -0.05266129,\n",
              "        -0.02731569, -0.10080238,  0.02205934,  0.0253306 , -0.04713247,\n",
              "         0.01325951, -0.01660333,  0.00863713,  0.06462494, -0.05216797,\n",
              "         0.10145401, -0.00225029]], dtype=float32)>"
            ]
          },
          "metadata": {},
          "execution_count": 6
        }
      ]
    },
    {
      "cell_type": "code",
      "source": [
        "df=pd.read_csv('sample_data/Topthousand.csv',lineterminator='\\n')"
      ],
      "metadata": {
        "id": "dUjIxMwqC-gm"
      },
      "execution_count": 12,
      "outputs": []
    },
    {
      "cell_type": "code",
      "source": [
        "df.head()"
      ],
      "metadata": {
        "colab": {
          "base_uri": "https://localhost:8080/",
          "height": 441
        },
        "id": "cjH-pRjLDvpI",
        "outputId": "fc59f5da-ca6a-4c1d-a47f-cde36b885b63"
      },
      "execution_count": 13,
      "outputs": [
        {
          "output_type": "execute_result",
          "data": {
            "text/plain": [
              "   Unnamed: 0      id original_language               original_title  \\\n",
              "0           0  580489                en  Venom: Let There Be Carnage   \n",
              "1           1  524434                en                     Eternals   \n",
              "2           2  438631                en                         Dune   \n",
              "3           3  796499                en              Army of Thieves   \n",
              "4           4  550988                en                     Free Guy   \n",
              "\n",
              "   popularity release_date  vote_average  vote_count  \\\n",
              "0    5401.308   2021-09-30           6.8        1736   \n",
              "1    3365.535   2021-11-03           7.1         622   \n",
              "2    2911.423   2021-09-15           8.0        3632   \n",
              "3    2552.437   2021-10-27           6.9         555   \n",
              "4    1850.470   2021-08-11           7.8        3493   \n",
              "\n",
              "                                               genre  \\\n",
              "0         ['Science Fiction', 'Action', 'Adventure']   \n",
              "1  ['Action', 'Adventure', 'Science Fiction', 'Fa...   \n",
              "2         ['Action', 'Adventure', 'Science Fiction']   \n",
              "3                    ['Action', 'Crime', 'Thriller']   \n",
              "4  ['Comedy', 'Action', 'Adventure', 'Science Fic...   \n",
              "\n",
              "                                            overview    revenue  runtime  \\\n",
              "0  After finding a host body in investigative rep...  424000000     97.0   \n",
              "1  The Eternals are a team of ancient aliens who ...  165000000    157.0   \n",
              "2  Paul Atreides, a brilliant and gifted young ma...  331116356    155.0   \n",
              "3  A mysterious woman recruits bank teller Ludwig...          0    127.0   \n",
              "4  A bank teller called Guy realizes he is a back...  331096766    115.0   \n",
              "\n",
              "                                          tagline  \n",
              "0                                             NaN  \n",
              "1                             In the beginning...  \n",
              "2                    Beyond fear, destiny awaits.  \n",
              "3    Before Vegas, one locksmith became a legend.  \n",
              "4  Life's too short to be a background character.  "
            ],
            "text/html": [
              "\n",
              "  <div id=\"df-fd9d4b61-6817-4a2a-8d89-c0f217083bb7\">\n",
              "    <div class=\"colab-df-container\">\n",
              "      <div>\n",
              "<style scoped>\n",
              "    .dataframe tbody tr th:only-of-type {\n",
              "        vertical-align: middle;\n",
              "    }\n",
              "\n",
              "    .dataframe tbody tr th {\n",
              "        vertical-align: top;\n",
              "    }\n",
              "\n",
              "    .dataframe thead th {\n",
              "        text-align: right;\n",
              "    }\n",
              "</style>\n",
              "<table border=\"1\" class=\"dataframe\">\n",
              "  <thead>\n",
              "    <tr style=\"text-align: right;\">\n",
              "      <th></th>\n",
              "      <th>Unnamed: 0</th>\n",
              "      <th>id</th>\n",
              "      <th>original_language</th>\n",
              "      <th>original_title</th>\n",
              "      <th>popularity</th>\n",
              "      <th>release_date</th>\n",
              "      <th>vote_average</th>\n",
              "      <th>vote_count</th>\n",
              "      <th>genre</th>\n",
              "      <th>overview</th>\n",
              "      <th>revenue</th>\n",
              "      <th>runtime</th>\n",
              "      <th>tagline</th>\n",
              "    </tr>\n",
              "  </thead>\n",
              "  <tbody>\n",
              "    <tr>\n",
              "      <th>0</th>\n",
              "      <td>0</td>\n",
              "      <td>580489</td>\n",
              "      <td>en</td>\n",
              "      <td>Venom: Let There Be Carnage</td>\n",
              "      <td>5401.308</td>\n",
              "      <td>2021-09-30</td>\n",
              "      <td>6.8</td>\n",
              "      <td>1736</td>\n",
              "      <td>['Science Fiction', 'Action', 'Adventure']</td>\n",
              "      <td>After finding a host body in investigative rep...</td>\n",
              "      <td>424000000</td>\n",
              "      <td>97.0</td>\n",
              "      <td>NaN</td>\n",
              "    </tr>\n",
              "    <tr>\n",
              "      <th>1</th>\n",
              "      <td>1</td>\n",
              "      <td>524434</td>\n",
              "      <td>en</td>\n",
              "      <td>Eternals</td>\n",
              "      <td>3365.535</td>\n",
              "      <td>2021-11-03</td>\n",
              "      <td>7.1</td>\n",
              "      <td>622</td>\n",
              "      <td>['Action', 'Adventure', 'Science Fiction', 'Fa...</td>\n",
              "      <td>The Eternals are a team of ancient aliens who ...</td>\n",
              "      <td>165000000</td>\n",
              "      <td>157.0</td>\n",
              "      <td>In the beginning...</td>\n",
              "    </tr>\n",
              "    <tr>\n",
              "      <th>2</th>\n",
              "      <td>2</td>\n",
              "      <td>438631</td>\n",
              "      <td>en</td>\n",
              "      <td>Dune</td>\n",
              "      <td>2911.423</td>\n",
              "      <td>2021-09-15</td>\n",
              "      <td>8.0</td>\n",
              "      <td>3632</td>\n",
              "      <td>['Action', 'Adventure', 'Science Fiction']</td>\n",
              "      <td>Paul Atreides, a brilliant and gifted young ma...</td>\n",
              "      <td>331116356</td>\n",
              "      <td>155.0</td>\n",
              "      <td>Beyond fear, destiny awaits.</td>\n",
              "    </tr>\n",
              "    <tr>\n",
              "      <th>3</th>\n",
              "      <td>3</td>\n",
              "      <td>796499</td>\n",
              "      <td>en</td>\n",
              "      <td>Army of Thieves</td>\n",
              "      <td>2552.437</td>\n",
              "      <td>2021-10-27</td>\n",
              "      <td>6.9</td>\n",
              "      <td>555</td>\n",
              "      <td>['Action', 'Crime', 'Thriller']</td>\n",
              "      <td>A mysterious woman recruits bank teller Ludwig...</td>\n",
              "      <td>0</td>\n",
              "      <td>127.0</td>\n",
              "      <td>Before Vegas, one locksmith became a legend.</td>\n",
              "    </tr>\n",
              "    <tr>\n",
              "      <th>4</th>\n",
              "      <td>4</td>\n",
              "      <td>550988</td>\n",
              "      <td>en</td>\n",
              "      <td>Free Guy</td>\n",
              "      <td>1850.470</td>\n",
              "      <td>2021-08-11</td>\n",
              "      <td>7.8</td>\n",
              "      <td>3493</td>\n",
              "      <td>['Comedy', 'Action', 'Adventure', 'Science Fic...</td>\n",
              "      <td>A bank teller called Guy realizes he is a back...</td>\n",
              "      <td>331096766</td>\n",
              "      <td>115.0</td>\n",
              "      <td>Life's too short to be a background character.</td>\n",
              "    </tr>\n",
              "  </tbody>\n",
              "</table>\n",
              "</div>\n",
              "      <button class=\"colab-df-convert\" onclick=\"convertToInteractive('df-fd9d4b61-6817-4a2a-8d89-c0f217083bb7')\"\n",
              "              title=\"Convert this dataframe to an interactive table.\"\n",
              "              style=\"display:none;\">\n",
              "        \n",
              "  <svg xmlns=\"http://www.w3.org/2000/svg\" height=\"24px\"viewBox=\"0 0 24 24\"\n",
              "       width=\"24px\">\n",
              "    <path d=\"M0 0h24v24H0V0z\" fill=\"none\"/>\n",
              "    <path d=\"M18.56 5.44l.94 2.06.94-2.06 2.06-.94-2.06-.94-.94-2.06-.94 2.06-2.06.94zm-11 1L8.5 8.5l.94-2.06 2.06-.94-2.06-.94L8.5 2.5l-.94 2.06-2.06.94zm10 10l.94 2.06.94-2.06 2.06-.94-2.06-.94-.94-2.06-.94 2.06-2.06.94z\"/><path d=\"M17.41 7.96l-1.37-1.37c-.4-.4-.92-.59-1.43-.59-.52 0-1.04.2-1.43.59L10.3 9.45l-7.72 7.72c-.78.78-.78 2.05 0 2.83L4 21.41c.39.39.9.59 1.41.59.51 0 1.02-.2 1.41-.59l7.78-7.78 2.81-2.81c.8-.78.8-2.07 0-2.86zM5.41 20L4 18.59l7.72-7.72 1.47 1.35L5.41 20z\"/>\n",
              "  </svg>\n",
              "      </button>\n",
              "      \n",
              "  <style>\n",
              "    .colab-df-container {\n",
              "      display:flex;\n",
              "      flex-wrap:wrap;\n",
              "      gap: 12px;\n",
              "    }\n",
              "\n",
              "    .colab-df-convert {\n",
              "      background-color: #E8F0FE;\n",
              "      border: none;\n",
              "      border-radius: 50%;\n",
              "      cursor: pointer;\n",
              "      display: none;\n",
              "      fill: #1967D2;\n",
              "      height: 32px;\n",
              "      padding: 0 0 0 0;\n",
              "      width: 32px;\n",
              "    }\n",
              "\n",
              "    .colab-df-convert:hover {\n",
              "      background-color: #E2EBFA;\n",
              "      box-shadow: 0px 1px 2px rgba(60, 64, 67, 0.3), 0px 1px 3px 1px rgba(60, 64, 67, 0.15);\n",
              "      fill: #174EA6;\n",
              "    }\n",
              "\n",
              "    [theme=dark] .colab-df-convert {\n",
              "      background-color: #3B4455;\n",
              "      fill: #D2E3FC;\n",
              "    }\n",
              "\n",
              "    [theme=dark] .colab-df-convert:hover {\n",
              "      background-color: #434B5C;\n",
              "      box-shadow: 0px 1px 3px 1px rgba(0, 0, 0, 0.15);\n",
              "      filter: drop-shadow(0px 1px 2px rgba(0, 0, 0, 0.3));\n",
              "      fill: #FFFFFF;\n",
              "    }\n",
              "  </style>\n",
              "\n",
              "      <script>\n",
              "        const buttonEl =\n",
              "          document.querySelector('#df-fd9d4b61-6817-4a2a-8d89-c0f217083bb7 button.colab-df-convert');\n",
              "        buttonEl.style.display =\n",
              "          google.colab.kernel.accessAllowed ? 'block' : 'none';\n",
              "\n",
              "        async function convertToInteractive(key) {\n",
              "          const element = document.querySelector('#df-fd9d4b61-6817-4a2a-8d89-c0f217083bb7');\n",
              "          const dataTable =\n",
              "            await google.colab.kernel.invokeFunction('convertToInteractive',\n",
              "                                                     [key], {});\n",
              "          if (!dataTable) return;\n",
              "\n",
              "          const docLinkHtml = 'Like what you see? Visit the ' +\n",
              "            '<a target=\"_blank\" href=https://colab.research.google.com/notebooks/data_table.ipynb>data table notebook</a>'\n",
              "            + ' to learn more about interactive tables.';\n",
              "          element.innerHTML = '';\n",
              "          dataTable['output_type'] = 'display_data';\n",
              "          await google.colab.output.renderOutput(dataTable, element);\n",
              "          const docLink = document.createElement('div');\n",
              "          docLink.innerHTML = docLinkHtml;\n",
              "          element.appendChild(docLink);\n",
              "        }\n",
              "      </script>\n",
              "    </div>\n",
              "  </div>\n",
              "  "
            ]
          },
          "metadata": {},
          "execution_count": 13
        }
      ]
    },
    {
      "cell_type": "code",
      "source": [
        "df=df[[\"original_title\",\"overview\"]]"
      ],
      "metadata": {
        "id": "ijCFzNUUD23D"
      },
      "execution_count": 15,
      "outputs": []
    },
    {
      "cell_type": "code",
      "source": [
        "df.head()"
      ],
      "metadata": {
        "colab": {
          "base_uri": "https://localhost:8080/",
          "height": 206
        },
        "id": "t9RlsGrIEI6L",
        "outputId": "811fb742-315e-4978-9837-8e09a2be430a"
      },
      "execution_count": 16,
      "outputs": [
        {
          "output_type": "execute_result",
          "data": {
            "text/plain": [
              "                original_title  \\\n",
              "0  Venom: Let There Be Carnage   \n",
              "1                     Eternals   \n",
              "2                         Dune   \n",
              "3              Army of Thieves   \n",
              "4                     Free Guy   \n",
              "\n",
              "                                            overview  \n",
              "0  After finding a host body in investigative rep...  \n",
              "1  The Eternals are a team of ancient aliens who ...  \n",
              "2  Paul Atreides, a brilliant and gifted young ma...  \n",
              "3  A mysterious woman recruits bank teller Ludwig...  \n",
              "4  A bank teller called Guy realizes he is a back...  "
            ],
            "text/html": [
              "\n",
              "  <div id=\"df-23536b65-0ef0-4148-9b93-91bf09a89bb7\">\n",
              "    <div class=\"colab-df-container\">\n",
              "      <div>\n",
              "<style scoped>\n",
              "    .dataframe tbody tr th:only-of-type {\n",
              "        vertical-align: middle;\n",
              "    }\n",
              "\n",
              "    .dataframe tbody tr th {\n",
              "        vertical-align: top;\n",
              "    }\n",
              "\n",
              "    .dataframe thead th {\n",
              "        text-align: right;\n",
              "    }\n",
              "</style>\n",
              "<table border=\"1\" class=\"dataframe\">\n",
              "  <thead>\n",
              "    <tr style=\"text-align: right;\">\n",
              "      <th></th>\n",
              "      <th>original_title</th>\n",
              "      <th>overview</th>\n",
              "    </tr>\n",
              "  </thead>\n",
              "  <tbody>\n",
              "    <tr>\n",
              "      <th>0</th>\n",
              "      <td>Venom: Let There Be Carnage</td>\n",
              "      <td>After finding a host body in investigative rep...</td>\n",
              "    </tr>\n",
              "    <tr>\n",
              "      <th>1</th>\n",
              "      <td>Eternals</td>\n",
              "      <td>The Eternals are a team of ancient aliens who ...</td>\n",
              "    </tr>\n",
              "    <tr>\n",
              "      <th>2</th>\n",
              "      <td>Dune</td>\n",
              "      <td>Paul Atreides, a brilliant and gifted young ma...</td>\n",
              "    </tr>\n",
              "    <tr>\n",
              "      <th>3</th>\n",
              "      <td>Army of Thieves</td>\n",
              "      <td>A mysterious woman recruits bank teller Ludwig...</td>\n",
              "    </tr>\n",
              "    <tr>\n",
              "      <th>4</th>\n",
              "      <td>Free Guy</td>\n",
              "      <td>A bank teller called Guy realizes he is a back...</td>\n",
              "    </tr>\n",
              "  </tbody>\n",
              "</table>\n",
              "</div>\n",
              "      <button class=\"colab-df-convert\" onclick=\"convertToInteractive('df-23536b65-0ef0-4148-9b93-91bf09a89bb7')\"\n",
              "              title=\"Convert this dataframe to an interactive table.\"\n",
              "              style=\"display:none;\">\n",
              "        \n",
              "  <svg xmlns=\"http://www.w3.org/2000/svg\" height=\"24px\"viewBox=\"0 0 24 24\"\n",
              "       width=\"24px\">\n",
              "    <path d=\"M0 0h24v24H0V0z\" fill=\"none\"/>\n",
              "    <path d=\"M18.56 5.44l.94 2.06.94-2.06 2.06-.94-2.06-.94-.94-2.06-.94 2.06-2.06.94zm-11 1L8.5 8.5l.94-2.06 2.06-.94-2.06-.94L8.5 2.5l-.94 2.06-2.06.94zm10 10l.94 2.06.94-2.06 2.06-.94-2.06-.94-.94-2.06-.94 2.06-2.06.94z\"/><path d=\"M17.41 7.96l-1.37-1.37c-.4-.4-.92-.59-1.43-.59-.52 0-1.04.2-1.43.59L10.3 9.45l-7.72 7.72c-.78.78-.78 2.05 0 2.83L4 21.41c.39.39.9.59 1.41.59.51 0 1.02-.2 1.41-.59l7.78-7.78 2.81-2.81c.8-.78.8-2.07 0-2.86zM5.41 20L4 18.59l7.72-7.72 1.47 1.35L5.41 20z\"/>\n",
              "  </svg>\n",
              "      </button>\n",
              "      \n",
              "  <style>\n",
              "    .colab-df-container {\n",
              "      display:flex;\n",
              "      flex-wrap:wrap;\n",
              "      gap: 12px;\n",
              "    }\n",
              "\n",
              "    .colab-df-convert {\n",
              "      background-color: #E8F0FE;\n",
              "      border: none;\n",
              "      border-radius: 50%;\n",
              "      cursor: pointer;\n",
              "      display: none;\n",
              "      fill: #1967D2;\n",
              "      height: 32px;\n",
              "      padding: 0 0 0 0;\n",
              "      width: 32px;\n",
              "    }\n",
              "\n",
              "    .colab-df-convert:hover {\n",
              "      background-color: #E2EBFA;\n",
              "      box-shadow: 0px 1px 2px rgba(60, 64, 67, 0.3), 0px 1px 3px 1px rgba(60, 64, 67, 0.15);\n",
              "      fill: #174EA6;\n",
              "    }\n",
              "\n",
              "    [theme=dark] .colab-df-convert {\n",
              "      background-color: #3B4455;\n",
              "      fill: #D2E3FC;\n",
              "    }\n",
              "\n",
              "    [theme=dark] .colab-df-convert:hover {\n",
              "      background-color: #434B5C;\n",
              "      box-shadow: 0px 1px 3px 1px rgba(0, 0, 0, 0.15);\n",
              "      filter: drop-shadow(0px 1px 2px rgba(0, 0, 0, 0.3));\n",
              "      fill: #FFFFFF;\n",
              "    }\n",
              "  </style>\n",
              "\n",
              "      <script>\n",
              "        const buttonEl =\n",
              "          document.querySelector('#df-23536b65-0ef0-4148-9b93-91bf09a89bb7 button.colab-df-convert');\n",
              "        buttonEl.style.display =\n",
              "          google.colab.kernel.accessAllowed ? 'block' : 'none';\n",
              "\n",
              "        async function convertToInteractive(key) {\n",
              "          const element = document.querySelector('#df-23536b65-0ef0-4148-9b93-91bf09a89bb7');\n",
              "          const dataTable =\n",
              "            await google.colab.kernel.invokeFunction('convertToInteractive',\n",
              "                                                     [key], {});\n",
              "          if (!dataTable) return;\n",
              "\n",
              "          const docLinkHtml = 'Like what you see? Visit the ' +\n",
              "            '<a target=\"_blank\" href=https://colab.research.google.com/notebooks/data_table.ipynb>data table notebook</a>'\n",
              "            + ' to learn more about interactive tables.';\n",
              "          element.innerHTML = '';\n",
              "          dataTable['output_type'] = 'display_data';\n",
              "          await google.colab.output.renderOutput(dataTable, element);\n",
              "          const docLink = document.createElement('div');\n",
              "          docLink.innerHTML = docLinkHtml;\n",
              "          element.appendChild(docLink);\n",
              "        }\n",
              "      </script>\n",
              "    </div>\n",
              "  </div>\n",
              "  "
            ]
          },
          "metadata": {},
          "execution_count": 16
        }
      ]
    },
    {
      "cell_type": "code",
      "source": [
        "df=df.dropna()\n",
        "df=df.reset_index()\n",
        "df=df[:5500]"
      ],
      "metadata": {
        "id": "kcq-yUg1EMl3"
      },
      "execution_count": 17,
      "outputs": []
    },
    {
      "cell_type": "code",
      "source": [
        "titles=list(df['overview'])"
      ],
      "metadata": {
        "id": "q7e8xZggEXTU"
      },
      "execution_count": 18,
      "outputs": []
    },
    {
      "cell_type": "code",
      "source": [
        "titles[:5]"
      ],
      "metadata": {
        "colab": {
          "base_uri": "https://localhost:8080/"
        },
        "id": "TlAneEA_EgYO",
        "outputId": "19ba85e1-6468-462d-cb88-ec894c6763b7"
      },
      "execution_count": 19,
      "outputs": [
        {
          "output_type": "execute_result",
          "data": {
            "text/plain": [
              "['After finding a host body in investigative reporter Eddie Brock, the alien symbiote must face a new enemy, Carnage, the alter ego of serial killer Cletus Kasady.',\n",
              " 'The Eternals are a team of ancient aliens who have been living on Earth in secret for thousands of years. When an unexpected tragedy forces them out of the shadows, they are forced to reunite against mankind’s most ancient enemy, the Deviants.',\n",
              " \"Paul Atreides, a brilliant and gifted young man born into a great destiny beyond his understanding, must travel to the most dangerous planet in the universe to ensure the future of his family and his people. As malevolent forces explode into conflict over the planet's exclusive supply of the most precious resource in existence-a commodity capable of unlocking humanity's greatest potential-only those who can conquer their fear will survive.\",\n",
              " 'A mysterious woman recruits bank teller Ludwig Dieter to lead a group of aspiring thieves on a top-secret heist during the early stages of the zombie apocalypse.',\n",
              " 'A bank teller called Guy realizes he is a background character in an open world video game called Free City that will soon go offline.']"
            ]
          },
          "metadata": {},
          "execution_count": 19
        }
      ]
    },
    {
      "cell_type": "code",
      "source": [
        "embedding=embed(titles)\n",
        "print('The embedding shape is:',embedding.shape)"
      ],
      "metadata": {
        "colab": {
          "base_uri": "https://localhost:8080/"
        },
        "id": "Fb9CRkgeEkJT",
        "outputId": "d6daea0a-b379-4d2d-f7f9-bf6e1bd7a700"
      },
      "execution_count": 20,
      "outputs": [
        {
          "output_type": "stream",
          "name": "stdout",
          "text": [
            "The embedding shape is: (5500, 512)\n"
          ]
        }
      ]
    },
    {
      "cell_type": "code",
      "source": [
        "pca=PCA(n_components=2)\n",
        "emb_2d=pca.fit_transform(embedding)"
      ],
      "metadata": {
        "id": "ucB9fl9fE0bH"
      },
      "execution_count": 22,
      "outputs": []
    },
    {
      "cell_type": "code",
      "source": [
        "plt.figure(figsize=(11,6))\n",
        "plt.title('Embedding space')\n",
        "plt.scatter(emb_2d[:,0],emb_2d[:,1])\n",
        "plt.show()"
      ],
      "metadata": {
        "colab": {
          "base_uri": "https://localhost:8080/",
          "height": 390
        },
        "id": "QIlJ7GMCFKTx",
        "outputId": "5b3cb275-ec37-43c3-cd06-20e625651f28"
      },
      "execution_count": 23,
      "outputs": [
        {
          "output_type": "display_data",
          "data": {
            "text/plain": [
              "<Figure size 792x432 with 1 Axes>"
            ],
            "image/png": "[encoded data removed]"
          },
          "metadata": {
            "needs_background": "light"
          }
        }
      ]
    },
    {
      "cell_type": "code",
      "source": [
        "nn=NearestNeighbors(n_neighbors=10)\n",
        "nn.fit(embedding)"
      ],
      "metadata": {
        "colab": {
          "base_uri": "https://localhost:8080/"
        },
        "id": "jOh5FDC_FrpC",
        "outputId": "75bc84d9-729e-4803-c549-6311590e6d6c"
      },
      "execution_count": 24,
      "outputs": [
        {
          "output_type": "execute_result",
          "data": {
            "text/plain": [
              "NearestNeighbors(n_neighbors=10)"
            ]
          },
          "metadata": {},
          "execution_count": 24
        }
      ]
    },
    {
      "cell_type": "code",
      "source": [
        "from sklearn import neighbors\n",
        "def recommend(text):\n",
        "   emb=embed([text])\n",
        "   neighbors=nn.kneighbors(emb,return_distance=False)[0]\n",
        "   return df['original_title'].iloc[neighbors].tolist()"
      ],
      "metadata": {
        "id": "xDe9MZ0pGRlX"
      },
      "execution_count": 25,
      "outputs": []
    },
    {
      "cell_type": "code",
      "source": [
        "print('Recommended Movies')\n",
        "recommend('The Terminator')"
      ],
      "metadata": {
        "colab": {
          "base_uri": "https://localhost:8080/"
        },
        "id": "8Vk7HCrAHD69",
        "outputId": "fdc51c56-29b1-4a1b-9b6a-7126b8d8c997"
      },
      "execution_count": 26,
      "outputs": [
        {
          "output_type": "stream",
          "name": "stdout",
          "text": [
            "Recommended Movies\n"
          ]
        },
        {
          "output_type": "execute_result",
          "data": {
            "text/plain": [
              "['Terminator: Dark Fate',\n",
              " 'Terminator 3: Rise of the Machines',\n",
              " 'Terminator 2: Judgment Day',\n",
              " 'The Terminator',\n",
              " 'Terminator Genisys',\n",
              " 'Transformers: Rise of the Beasts',\n",
              " 'Transformers Prime Beast Hunters: Predacons Rising',\n",
              " 'Blade Runner',\n",
              " 'Back to the Future Part III',\n",
              " 'Terminator Salvation']"
            ]
          },
          "metadata": {},
          "execution_count": 26
        }
      ]
    },
    {
      "cell_type": "code",
      "source": [
        "print('Recommended Movies')\n",
        "recommend('comedy and Horror')"
      ],
      "metadata": {
        "colab": {
          "base_uri": "https://localhost:8080/"
        },
        "id": "T8RT6lAaHR8m",
        "outputId": "db02bfe3-8041-4806-c677-7cb37a834377"
      },
      "execution_count": 27,
      "outputs": [
        {
          "output_type": "stream",
          "name": "stdout",
          "text": [
            "Recommended Movies\n"
          ]
        },
        {
          "output_type": "execute_result",
          "data": {
            "text/plain": [
              "['Graf Porno und seine Mädchen',\n",
              " 'Scary Movie 2',\n",
              " 'Scary Movie',\n",
              " 'Always Watching: A Marble Hornets Story',\n",
              " 'Shakespeare in Love',\n",
              " 'Movie 43',\n",
              " 'Mi otra yo',\n",
              " '貞子vs伽椰子',\n",
              " 'Corona Zombies',\n",
              " 'The Addams Family 2']"
            ]
          },
          "metadata": {},
          "execution_count": 27
        }
      ]
    },
    {
      "cell_type": "code",
      "source": [
        "print('Recommended Movies')\n",
        "recommend('After Thanos, an intergalactic warlord, disintegrates half of the universe, the Avengers must reunite and assemble again to reinvigorate their trounced allies and restore balance.')"
      ],
      "metadata": {
        "colab": {
          "base_uri": "https://localhost:8080/"
        },
        "id": "Z2HuRP1NHiXt",
        "outputId": "fad83e30-8e86-4639-f589-169a94a945c9"
      },
      "execution_count": 28,
      "outputs": [
        {
          "output_type": "stream",
          "name": "stdout",
          "text": [
            "Recommended Movies\n"
          ]
        },
        {
          "output_type": "execute_result",
          "data": {
            "text/plain": [
              "['Avengers: Endgame',\n",
              " 'Avengers: Infinity War',\n",
              " 'Iron Man & Hulk: Heroes United',\n",
              " 'Thor: Ragnarok',\n",
              " 'Thor: The Dark World',\n",
              " 'Avengers: Age of Ultron',\n",
              " 'Hulk vs. Thor',\n",
              " 'Captain America: Civil War',\n",
              " 'Next Avengers: Heroes of Tomorrow',\n",
              " 'Fantastic Four: Rise of the Silver Surfer']"
            ]
          },
          "metadata": {},
          "execution_count": 28
        }
      ]
    }
  ]
}